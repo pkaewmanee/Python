{
  "cells": [
    {
      "cell_type": "markdown",
      "metadata": {
        "id": "view-in-github",
        "colab_type": "text"
      },
      "source": [
        "<a href=\"https://colab.research.google.com/github/pkaewmanee/Python/blob/main/Flask_for_Weather.ipynb\" target=\"_parent\"><img src=\"https://colab.research.google.com/assets/colab-badge.svg\" alt=\"Open In Colab\"/></a>"
      ]
    },
    {
      "cell_type": "code",
      "execution_count": null,
      "metadata": {
        "colab": {
          "base_uri": "https://localhost:8080/"
        },
        "id": "VhZOAbewtSZx",
        "outputId": "8a811276-0432-4065-e563-e842b6448761"
      },
      "outputs": [
        {
          "name": "stdout",
          "output_type": "stream",
          "text": [
            "Collecting flask_ngrok\n",
            "  Downloading flask_ngrok-0.0.25-py3-none-any.whl (3.1 kB)\n",
            "Requirement already satisfied: requests in /usr/local/lib/python3.7/dist-packages (from flask_ngrok) (2.23.0)\n",
            "Requirement already satisfied: Flask>=0.8 in /usr/local/lib/python3.7/dist-packages (from flask_ngrok) (1.1.4)\n",
            "Requirement already satisfied: itsdangerous<2.0,>=0.24 in /usr/local/lib/python3.7/dist-packages (from Flask>=0.8->flask_ngrok) (1.1.0)\n",
            "Requirement already satisfied: click<8.0,>=5.1 in /usr/local/lib/python3.7/dist-packages (from Flask>=0.8->flask_ngrok) (7.1.2)\n",
            "Requirement already satisfied: Jinja2<3.0,>=2.10.1 in /usr/local/lib/python3.7/dist-packages (from Flask>=0.8->flask_ngrok) (2.11.3)\n",
            "Requirement already satisfied: Werkzeug<2.0,>=0.15 in /usr/local/lib/python3.7/dist-packages (from Flask>=0.8->flask_ngrok) (1.0.1)\n",
            "Requirement already satisfied: MarkupSafe>=0.23 in /usr/local/lib/python3.7/dist-packages (from Jinja2<3.0,>=2.10.1->Flask>=0.8->flask_ngrok) (2.0.1)\n",
            "Requirement already satisfied: chardet<4,>=3.0.2 in /usr/local/lib/python3.7/dist-packages (from requests->flask_ngrok) (3.0.4)\n",
            "Requirement already satisfied: urllib3!=1.25.0,!=1.25.1,<1.26,>=1.21.1 in /usr/local/lib/python3.7/dist-packages (from requests->flask_ngrok) (1.24.3)\n",
            "Requirement already satisfied: certifi>=2017.4.17 in /usr/local/lib/python3.7/dist-packages (from requests->flask_ngrok) (2021.10.8)\n",
            "Requirement already satisfied: idna<3,>=2.5 in /usr/local/lib/python3.7/dist-packages (from requests->flask_ngrok) (2.10)\n",
            "Installing collected packages: flask-ngrok\n",
            "Successfully installed flask-ngrok-0.0.25\n",
            "Collecting flask_cors\n",
            "  Downloading Flask_Cors-3.0.10-py2.py3-none-any.whl (14 kB)\n",
            "Requirement already satisfied: Flask>=0.9 in /usr/local/lib/python3.7/dist-packages (from flask_cors) (1.1.4)\n",
            "Requirement already satisfied: Six in /usr/local/lib/python3.7/dist-packages (from flask_cors) (1.15.0)\n",
            "Requirement already satisfied: Werkzeug<2.0,>=0.15 in /usr/local/lib/python3.7/dist-packages (from Flask>=0.9->flask_cors) (1.0.1)\n",
            "Requirement already satisfied: click<8.0,>=5.1 in /usr/local/lib/python3.7/dist-packages (from Flask>=0.9->flask_cors) (7.1.2)\n",
            "Requirement already satisfied: Jinja2<3.0,>=2.10.1 in /usr/local/lib/python3.7/dist-packages (from Flask>=0.9->flask_cors) (2.11.3)\n",
            "Requirement already satisfied: itsdangerous<2.0,>=0.24 in /usr/local/lib/python3.7/dist-packages (from Flask>=0.9->flask_cors) (1.1.0)\n",
            "Requirement already satisfied: MarkupSafe>=0.23 in /usr/local/lib/python3.7/dist-packages (from Jinja2<3.0,>=2.10.1->Flask>=0.9->flask_cors) (2.0.1)\n",
            "Installing collected packages: flask-cors\n",
            "Successfully installed flask-cors-3.0.10\n"
          ]
        }
      ],
      "source": [
        "! pip install flask_ngrok\n",
        "! pip install flask_cors"
      ]
    },
    {
      "cell_type": "code",
      "execution_count": null,
      "metadata": {
        "colab": {
          "base_uri": "https://localhost:8080/"
        },
        "id": "z92MOB8T6fSI",
        "outputId": "525b4dd8-abc2-4e16-9f82-686fbf005875"
      },
      "outputs": [
        {
          "name": "stdout",
          "output_type": "stream",
          "text": [
            "Downloading...\n",
            "From: https://drive.google.com/uc?id=1RU11jS7HsXZSf1_x3K869Jm8tx09V30K\n",
            "To: /content/zip_code_lat_lon.csv\n",
            "100% 708k/708k [00:00<00:00, 4.33MB/s]\n"
          ]
        }
      ],
      "source": [
        "! gdown https://drive.google.com/uc?id=1RU11jS7HsXZSf1_x3K869Jm8tx09V30K"
      ]
    },
    {
      "cell_type": "code",
      "execution_count": null,
      "metadata": {
        "colab": {
          "background_save": true,
          "base_uri": "https://localhost:8080/"
        },
        "id": "gCupQLwytYm0",
        "outputId": "755eb8d5-f6e6-4c87-fe94-dbc46d08a12c"
      },
      "outputs": [
        {
          "name": "stdout",
          "output_type": "stream",
          "text": [
            " * Serving Flask app \"__main__\" (lazy loading)\n",
            " * Environment: production\n",
            "\u001b[31m   WARNING: This is a development server. Do not use it in a production deployment.\u001b[0m\n",
            "\u001b[2m   Use a production WSGI server instead.\u001b[0m\n",
            " * Debug mode: off\n"
          ]
        },
        {
          "name": "stderr",
          "output_type": "stream",
          "text": [
            " * Running on http://127.0.0.1:5000/ (Press CTRL+C to quit)\n"
          ]
        },
        {
          "name": "stdout",
          "output_type": "stream",
          "text": [
            " * Running on http://e53e-34-125-135-85.ngrok.io\n",
            " * Traffic stats available on http://127.0.0.1:4040\n",
            "district  \n",
            "subdistrict วังใหม่\n",
            "http://www.7timer.info/bin/api.pl?lon=101.132&lat=12.2985&product=civil&output=json\n"
          ]
        },
        {
          "name": "stderr",
          "output_type": "stream",
          "text": [
            "127.0.0.1 - - [12/Nov/2021 04:39:11] \"\u001b[37mGET /getweather?district=%20&subdistrict=วังใหม่ HTTP/1.1\u001b[0m\" 200 -\n"
          ]
        },
        {
          "name": "stdout",
          "output_type": "stream",
          "text": [
            "[{'datetime': '2021-11-12 04:00', 'temp2m': 28, 'weather': 'lightrainnight'}, {'datetime': '2021-11-12 07:00', 'temp2m': 27, 'weather': 'lightrainday'}, {'datetime': '2021-11-12 10:00', 'temp2m': 27, 'weather': 'lightrainday'}, {'datetime': '2021-11-12 13:00', 'temp2m': 29, 'weather': 'oshowerday'}, {'datetime': '2021-11-12 16:00', 'temp2m': 29, 'weather': 'oshowerday'}, {'datetime': '2021-11-12 19:00', 'temp2m': 29, 'weather': 'lightrainnight'}, {'datetime': '2021-11-12 22:00', 'temp2m': 28, 'weather': 'lightrainnight'}, {'datetime': '2021-11-13 01:00', 'temp2m': 28, 'weather': 'lightrainnight'}, {'datetime': '2021-11-13 04:00', 'temp2m': 27, 'weather': 'lightrainnight'}, {'datetime': '2021-11-13 07:00', 'temp2m': 27, 'weather': 'lightrainday'}, {'datetime': '2021-11-13 10:00', 'temp2m': 27, 'weather': 'lightrainday'}, {'datetime': '2021-11-13 13:00', 'temp2m': 28, 'weather': 'lightrainday'}, {'datetime': '2021-11-13 16:00', 'temp2m': 28, 'weather': 'lightrainday'}, {'datetime': '2021-11-13 19:00', 'temp2m': 27, 'weather': 'lightrainnight'}, {'datetime': '2021-11-13 22:00', 'temp2m': 26, 'weather': 'rainnight'}, {'datetime': '2021-11-14 01:00', 'temp2m': 25, 'weather': 'rainnight'}, {'datetime': '2021-11-14 04:00', 'temp2m': 24, 'weather': 'rainnight'}, {'datetime': '2021-11-14 07:00', 'temp2m': 24, 'weather': 'rainday'}, {'datetime': '2021-11-14 10:00', 'temp2m': 25, 'weather': 'rainday'}, {'datetime': '2021-11-14 13:00', 'temp2m': 25, 'weather': 'rainday'}, {'datetime': '2021-11-14 16:00', 'temp2m': 26, 'weather': 'rainday'}, {'datetime': '2021-11-14 19:00', 'temp2m': 27, 'weather': 'rainnight'}, {'datetime': '2021-11-14 22:00', 'temp2m': 27, 'weather': 'rainnight'}, {'datetime': '2021-11-15 01:00', 'temp2m': 26, 'weather': 'rainnight'}, {'datetime': '2021-11-15 04:00', 'temp2m': 26, 'weather': 'rainnight'}, {'datetime': '2021-11-15 07:00', 'temp2m': 26, 'weather': 'rainday'}, {'datetime': '2021-11-15 10:00', 'temp2m': 25, 'weather': 'rainday'}, {'datetime': '2021-11-15 13:00', 'temp2m': 26, 'weather': 'rainday'}, {'datetime': '2021-11-15 16:00', 'temp2m': 27, 'weather': 'rainday'}, {'datetime': '2021-11-15 19:00', 'temp2m': 27, 'weather': 'rainnight'}, {'datetime': '2021-11-15 22:00', 'temp2m': 28, 'weather': 'rainnight'}, {'datetime': '2021-11-16 01:00', 'temp2m': 27, 'weather': 'rainnight'}, {'datetime': '2021-11-16 04:00', 'temp2m': 27, 'weather': 'rainnight'}, {'datetime': '2021-11-16 07:00', 'temp2m': 26, 'weather': 'rainday'}, {'datetime': '2021-11-16 10:00', 'temp2m': 27, 'weather': 'rainday'}, {'datetime': '2021-11-16 13:00', 'temp2m': 27, 'weather': 'rainday'}, {'datetime': '2021-11-16 16:00', 'temp2m': 28, 'weather': 'rainday'}, {'datetime': '2021-11-16 19:00', 'temp2m': 28, 'weather': 'rainnight'}, {'datetime': '2021-11-16 22:00', 'temp2m': 28, 'weather': 'rainnight'}, {'datetime': '2021-11-17 01:00', 'temp2m': 27, 'weather': 'rainnight'}, {'datetime': '2021-11-17 04:00', 'temp2m': 27, 'weather': 'rainnight'}, {'datetime': '2021-11-17 07:00', 'temp2m': 26, 'weather': 'rainday'}, {'datetime': '2021-11-17 10:00', 'temp2m': 26, 'weather': 'rainday'}, {'datetime': '2021-11-17 13:00', 'temp2m': 27, 'weather': 'rainday'}, {'datetime': '2021-11-17 16:00', 'temp2m': 27, 'weather': 'rainday'}, {'datetime': '2021-11-17 19:00', 'temp2m': 28, 'weather': 'rainnight'}, {'datetime': '2021-11-17 22:00', 'temp2m': 28, 'weather': 'cloudynight'}, {'datetime': '2021-11-18 01:00', 'temp2m': 28, 'weather': 'rainnight'}, {'datetime': '2021-11-18 04:00', 'temp2m': 27, 'weather': 'rainnight'}, {'datetime': '2021-11-18 07:00', 'temp2m': 27, 'weather': 'rainday'}, {'datetime': '2021-11-18 10:00', 'temp2m': 27, 'weather': 'rainday'}, {'datetime': '2021-11-18 13:00', 'temp2m': 28, 'weather': 'rainday'}, {'datetime': '2021-11-18 16:00', 'temp2m': 28, 'weather': 'rainday'}, {'datetime': '2021-11-18 19:00', 'temp2m': 28, 'weather': 'rainnight'}, {'datetime': '2021-11-18 22:00', 'temp2m': 28, 'weather': 'rainnight'}, {'datetime': '2021-11-19 01:00', 'temp2m': 28, 'weather': 'rainnight'}, {'datetime': '2021-11-19 04:00', 'temp2m': 27, 'weather': 'rainnight'}, {'datetime': '2021-11-19 07:00', 'temp2m': 27, 'weather': 'rainday'}, {'datetime': '2021-11-19 10:00', 'temp2m': 28, 'weather': 'rainday'}, {'datetime': '2021-11-19 13:00', 'temp2m': 27, 'weather': 'rainday'}, {'datetime': '2021-11-19 16:00', 'temp2m': 27, 'weather': 'rainday'}, {'datetime': '2021-11-19 19:00', 'temp2m': 28, 'weather': 'rainnight'}, {'datetime': '2021-11-19 22:00', 'temp2m': 28, 'weather': 'cloudynight'}, {'datetime': '2021-11-20 01:00', 'temp2m': 28, 'weather': 'mcloudynight'}]\n",
            "district      \n",
            "subdistrict วังใหม่\n",
            "http://www.7timer.info/bin/api.pl?lon=101.132&lat=12.2985&product=civil&output=json\n"
          ]
        },
        {
          "name": "stderr",
          "output_type": "stream",
          "text": [
            "127.0.0.1 - - [12/Nov/2021 04:39:17] \"\u001b[37mGET /getweather?district=%20%20%20%20%20&subdistrict=วังใหม่ HTTP/1.1\u001b[0m\" 200 -\n"
          ]
        },
        {
          "name": "stdout",
          "output_type": "stream",
          "text": [
            "[{'datetime': '2021-11-12 04:00', 'temp2m': 28, 'weather': 'lightrainnight'}, {'datetime': '2021-11-12 07:00', 'temp2m': 27, 'weather': 'lightrainday'}, {'datetime': '2021-11-12 10:00', 'temp2m': 27, 'weather': 'lightrainday'}, {'datetime': '2021-11-12 13:00', 'temp2m': 29, 'weather': 'oshowerday'}, {'datetime': '2021-11-12 16:00', 'temp2m': 29, 'weather': 'oshowerday'}, {'datetime': '2021-11-12 19:00', 'temp2m': 29, 'weather': 'lightrainnight'}, {'datetime': '2021-11-12 22:00', 'temp2m': 28, 'weather': 'lightrainnight'}, {'datetime': '2021-11-13 01:00', 'temp2m': 28, 'weather': 'lightrainnight'}, {'datetime': '2021-11-13 04:00', 'temp2m': 27, 'weather': 'lightrainnight'}, {'datetime': '2021-11-13 07:00', 'temp2m': 27, 'weather': 'lightrainday'}, {'datetime': '2021-11-13 10:00', 'temp2m': 27, 'weather': 'lightrainday'}, {'datetime': '2021-11-13 13:00', 'temp2m': 28, 'weather': 'lightrainday'}, {'datetime': '2021-11-13 16:00', 'temp2m': 28, 'weather': 'lightrainday'}, {'datetime': '2021-11-13 19:00', 'temp2m': 27, 'weather': 'lightrainnight'}, {'datetime': '2021-11-13 22:00', 'temp2m': 26, 'weather': 'rainnight'}, {'datetime': '2021-11-14 01:00', 'temp2m': 25, 'weather': 'rainnight'}, {'datetime': '2021-11-14 04:00', 'temp2m': 24, 'weather': 'rainnight'}, {'datetime': '2021-11-14 07:00', 'temp2m': 24, 'weather': 'rainday'}, {'datetime': '2021-11-14 10:00', 'temp2m': 25, 'weather': 'rainday'}, {'datetime': '2021-11-14 13:00', 'temp2m': 25, 'weather': 'rainday'}, {'datetime': '2021-11-14 16:00', 'temp2m': 26, 'weather': 'rainday'}, {'datetime': '2021-11-14 19:00', 'temp2m': 27, 'weather': 'rainnight'}, {'datetime': '2021-11-14 22:00', 'temp2m': 27, 'weather': 'rainnight'}, {'datetime': '2021-11-15 01:00', 'temp2m': 26, 'weather': 'rainnight'}, {'datetime': '2021-11-15 04:00', 'temp2m': 26, 'weather': 'rainnight'}, {'datetime': '2021-11-15 07:00', 'temp2m': 26, 'weather': 'rainday'}, {'datetime': '2021-11-15 10:00', 'temp2m': 25, 'weather': 'rainday'}, {'datetime': '2021-11-15 13:00', 'temp2m': 26, 'weather': 'rainday'}, {'datetime': '2021-11-15 16:00', 'temp2m': 27, 'weather': 'rainday'}, {'datetime': '2021-11-15 19:00', 'temp2m': 27, 'weather': 'rainnight'}, {'datetime': '2021-11-15 22:00', 'temp2m': 28, 'weather': 'rainnight'}, {'datetime': '2021-11-16 01:00', 'temp2m': 27, 'weather': 'rainnight'}, {'datetime': '2021-11-16 04:00', 'temp2m': 27, 'weather': 'rainnight'}, {'datetime': '2021-11-16 07:00', 'temp2m': 26, 'weather': 'rainday'}, {'datetime': '2021-11-16 10:00', 'temp2m': 27, 'weather': 'rainday'}, {'datetime': '2021-11-16 13:00', 'temp2m': 27, 'weather': 'rainday'}, {'datetime': '2021-11-16 16:00', 'temp2m': 28, 'weather': 'rainday'}, {'datetime': '2021-11-16 19:00', 'temp2m': 28, 'weather': 'rainnight'}, {'datetime': '2021-11-16 22:00', 'temp2m': 28, 'weather': 'rainnight'}, {'datetime': '2021-11-17 01:00', 'temp2m': 27, 'weather': 'rainnight'}, {'datetime': '2021-11-17 04:00', 'temp2m': 27, 'weather': 'rainnight'}, {'datetime': '2021-11-17 07:00', 'temp2m': 26, 'weather': 'rainday'}, {'datetime': '2021-11-17 10:00', 'temp2m': 26, 'weather': 'rainday'}, {'datetime': '2021-11-17 13:00', 'temp2m': 27, 'weather': 'rainday'}, {'datetime': '2021-11-17 16:00', 'temp2m': 27, 'weather': 'rainday'}, {'datetime': '2021-11-17 19:00', 'temp2m': 28, 'weather': 'rainnight'}, {'datetime': '2021-11-17 22:00', 'temp2m': 28, 'weather': 'cloudynight'}, {'datetime': '2021-11-18 01:00', 'temp2m': 28, 'weather': 'rainnight'}, {'datetime': '2021-11-18 04:00', 'temp2m': 27, 'weather': 'rainnight'}, {'datetime': '2021-11-18 07:00', 'temp2m': 27, 'weather': 'rainday'}, {'datetime': '2021-11-18 10:00', 'temp2m': 27, 'weather': 'rainday'}, {'datetime': '2021-11-18 13:00', 'temp2m': 28, 'weather': 'rainday'}, {'datetime': '2021-11-18 16:00', 'temp2m': 28, 'weather': 'rainday'}, {'datetime': '2021-11-18 19:00', 'temp2m': 28, 'weather': 'rainnight'}, {'datetime': '2021-11-18 22:00', 'temp2m': 28, 'weather': 'rainnight'}, {'datetime': '2021-11-19 01:00', 'temp2m': 28, 'weather': 'rainnight'}, {'datetime': '2021-11-19 04:00', 'temp2m': 27, 'weather': 'rainnight'}, {'datetime': '2021-11-19 07:00', 'temp2m': 27, 'weather': 'rainday'}, {'datetime': '2021-11-19 10:00', 'temp2m': 28, 'weather': 'rainday'}, {'datetime': '2021-11-19 13:00', 'temp2m': 27, 'weather': 'rainday'}, {'datetime': '2021-11-19 16:00', 'temp2m': 27, 'weather': 'rainday'}, {'datetime': '2021-11-19 19:00', 'temp2m': 28, 'weather': 'rainnight'}, {'datetime': '2021-11-19 22:00', 'temp2m': 28, 'weather': 'cloudynight'}, {'datetime': '2021-11-20 01:00', 'temp2m': 28, 'weather': 'mcloudynight'}]\n",
            "district ปทุมวัน\n",
            "subdistrict \n",
            "http://www.7timer.info/bin/api.pl?lon=100.53175&lat=13.7405&product=civil&output=json\n"
          ]
        },
        {
          "name": "stderr",
          "output_type": "stream",
          "text": [
            "127.0.0.1 - - [12/Nov/2021 04:39:26] \"\u001b[37mGET /getweather?district=ปทุมวัน&subdistrict= HTTP/1.1\u001b[0m\" 200 -\n"
          ]
        },
        {
          "name": "stdout",
          "output_type": "stream",
          "text": [
            "[{'datetime': '2021-11-12 04:00', 'temp2m': 24, 'weather': 'lightrainnight'}, {'datetime': '2021-11-12 07:00', 'temp2m': 24, 'weather': 'lightrainday'}, {'datetime': '2021-11-12 10:00', 'temp2m': 26, 'weather': 'cloudyday'}, {'datetime': '2021-11-12 13:00', 'temp2m': 30, 'weather': 'mcloudyday'}, {'datetime': '2021-11-12 16:00', 'temp2m': 29, 'weather': 'lightrainday'}, {'datetime': '2021-11-12 19:00', 'temp2m': 26, 'weather': 'lightrainnight'}, {'datetime': '2021-11-12 22:00', 'temp2m': 26, 'weather': 'lightrainnight'}, {'datetime': '2021-11-13 01:00', 'temp2m': 25, 'weather': 'oshowernight'}, {'datetime': '2021-11-13 04:00', 'temp2m': 24, 'weather': 'lightrainnight'}, {'datetime': '2021-11-13 07:00', 'temp2m': 24, 'weather': 'lightrainday'}, {'datetime': '2021-11-13 10:00', 'temp2m': 27, 'weather': 'cloudyday'}, {'datetime': '2021-11-13 13:00', 'temp2m': 28, 'weather': 'lightrainday'}, {'datetime': '2021-11-13 16:00', 'temp2m': 28, 'weather': 'oshowerday'}, {'datetime': '2021-11-13 19:00', 'temp2m': 26, 'weather': 'lightrainnight'}, {'datetime': '2021-11-13 22:00', 'temp2m': 25, 'weather': 'lightrainnight'}, {'datetime': '2021-11-14 01:00', 'temp2m': 24, 'weather': 'lightrainnight'}, {'datetime': '2021-11-14 04:00', 'temp2m': 23, 'weather': 'lightrainnight'}, {'datetime': '2021-11-14 07:00', 'temp2m': 23, 'weather': 'lightrainday'}, {'datetime': '2021-11-14 10:00', 'temp2m': 24, 'weather': 'lightrainday'}, {'datetime': '2021-11-14 13:00', 'temp2m': 25, 'weather': 'lightrainday'}, {'datetime': '2021-11-14 16:00', 'temp2m': 26, 'weather': 'lightrainday'}, {'datetime': '2021-11-14 19:00', 'temp2m': 24, 'weather': 'lightrainnight'}, {'datetime': '2021-11-14 22:00', 'temp2m': 23, 'weather': 'lightrainnight'}, {'datetime': '2021-11-15 01:00', 'temp2m': 23, 'weather': 'oshowernight'}, {'datetime': '2021-11-15 04:00', 'temp2m': 22, 'weather': 'pcloudynight'}, {'datetime': '2021-11-15 07:00', 'temp2m': 22, 'weather': 'mcloudyday'}, {'datetime': '2021-11-15 10:00', 'temp2m': 27, 'weather': 'mcloudyday'}, {'datetime': '2021-11-15 13:00', 'temp2m': 29, 'weather': 'lightrainday'}, {'datetime': '2021-11-15 16:00', 'temp2m': 29, 'weather': 'lightrainday'}, {'datetime': '2021-11-15 19:00', 'temp2m': 26, 'weather': 'lightrainnight'}, {'datetime': '2021-11-15 22:00', 'temp2m': 25, 'weather': 'lightrainnight'}, {'datetime': '2021-11-16 01:00', 'temp2m': 24, 'weather': 'lightrainnight'}, {'datetime': '2021-11-16 04:00', 'temp2m': 24, 'weather': 'lightrainnight'}, {'datetime': '2021-11-16 07:00', 'temp2m': 24, 'weather': 'lightrainday'}, {'datetime': '2021-11-16 10:00', 'temp2m': 28, 'weather': 'lightrainday'}, {'datetime': '2021-11-16 13:00', 'temp2m': 30, 'weather': 'lightrainday'}, {'datetime': '2021-11-16 16:00', 'temp2m': 30, 'weather': 'oshowerday'}, {'datetime': '2021-11-16 19:00', 'temp2m': 27, 'weather': 'rainnight'}, {'datetime': '2021-11-16 22:00', 'temp2m': 26, 'weather': 'rainnight'}, {'datetime': '2021-11-17 01:00', 'temp2m': 25, 'weather': 'rainnight'}, {'datetime': '2021-11-17 04:00', 'temp2m': 24, 'weather': 'rainnight'}, {'datetime': '2021-11-17 07:00', 'temp2m': 24, 'weather': 'rainday'}, {'datetime': '2021-11-17 10:00', 'temp2m': 28, 'weather': 'rainday'}, {'datetime': '2021-11-17 13:00', 'temp2m': 30, 'weather': 'rainday'}, {'datetime': '2021-11-17 16:00', 'temp2m': 30, 'weather': 'rainday'}, {'datetime': '2021-11-17 19:00', 'temp2m': 27, 'weather': 'rainnight'}, {'datetime': '2021-11-17 22:00', 'temp2m': 26, 'weather': 'rainnight'}, {'datetime': '2021-11-18 01:00', 'temp2m': 25, 'weather': 'rainnight'}, {'datetime': '2021-11-18 04:00', 'temp2m': 24, 'weather': 'rainnight'}, {'datetime': '2021-11-18 07:00', 'temp2m': 24, 'weather': 'rainday'}, {'datetime': '2021-11-18 10:00', 'temp2m': 28, 'weather': 'rainday'}, {'datetime': '2021-11-18 13:00', 'temp2m': 30, 'weather': 'rainday'}, {'datetime': '2021-11-18 16:00', 'temp2m': 30, 'weather': 'rainday'}, {'datetime': '2021-11-18 19:00', 'temp2m': 26, 'weather': 'rainnight'}, {'datetime': '2021-11-18 22:00', 'temp2m': 25, 'weather': 'rainnight'}, {'datetime': '2021-11-19 01:00', 'temp2m': 25, 'weather': 'rainnight'}, {'datetime': '2021-11-19 04:00', 'temp2m': 24, 'weather': 'rainnight'}, {'datetime': '2021-11-19 07:00', 'temp2m': 24, 'weather': 'rainday'}, {'datetime': '2021-11-19 10:00', 'temp2m': 27, 'weather': 'rainday'}, {'datetime': '2021-11-19 13:00', 'temp2m': 31, 'weather': 'rainday'}, {'datetime': '2021-11-19 16:00', 'temp2m': 30, 'weather': 'rainday'}, {'datetime': '2021-11-19 19:00', 'temp2m': 27, 'weather': 'rainnight'}, {'datetime': '2021-11-19 22:00', 'temp2m': 27, 'weather': 'rainnight'}, {'datetime': '2021-11-20 01:00', 'temp2m': 25, 'weather': 'rainnight'}]\n",
            "district ปทุมวัน\n",
            "subdistrict undefined\n",
            "http://www.7timer.info/bin/api.pl?lon=100.53175&lat=13.7405&product=civil&output=json\n"
          ]
        },
        {
          "name": "stderr",
          "output_type": "stream",
          "text": [
            "127.0.0.1 - - [12/Nov/2021 04:40:47] \"\u001b[37mGET /getweather?district=ปทุมวัน&subdistrict=undefined HTTP/1.1\u001b[0m\" 200 -\n"
          ]
        },
        {
          "name": "stdout",
          "output_type": "stream",
          "text": [
            "[{'datetime': '2021-11-12 04:00', 'temp2m': 24, 'weather': 'lightrainnight'}, {'datetime': '2021-11-12 07:00', 'temp2m': 24, 'weather': 'lightrainday'}, {'datetime': '2021-11-12 10:00', 'temp2m': 26, 'weather': 'cloudyday'}, {'datetime': '2021-11-12 13:00', 'temp2m': 30, 'weather': 'mcloudyday'}, {'datetime': '2021-11-12 16:00', 'temp2m': 29, 'weather': 'lightrainday'}, {'datetime': '2021-11-12 19:00', 'temp2m': 26, 'weather': 'lightrainnight'}, {'datetime': '2021-11-12 22:00', 'temp2m': 26, 'weather': 'lightrainnight'}, {'datetime': '2021-11-13 01:00', 'temp2m': 25, 'weather': 'oshowernight'}, {'datetime': '2021-11-13 04:00', 'temp2m': 24, 'weather': 'lightrainnight'}, {'datetime': '2021-11-13 07:00', 'temp2m': 24, 'weather': 'lightrainday'}, {'datetime': '2021-11-13 10:00', 'temp2m': 27, 'weather': 'cloudyday'}, {'datetime': '2021-11-13 13:00', 'temp2m': 28, 'weather': 'lightrainday'}, {'datetime': '2021-11-13 16:00', 'temp2m': 28, 'weather': 'oshowerday'}, {'datetime': '2021-11-13 19:00', 'temp2m': 26, 'weather': 'lightrainnight'}, {'datetime': '2021-11-13 22:00', 'temp2m': 25, 'weather': 'lightrainnight'}, {'datetime': '2021-11-14 01:00', 'temp2m': 24, 'weather': 'lightrainnight'}, {'datetime': '2021-11-14 04:00', 'temp2m': 23, 'weather': 'lightrainnight'}, {'datetime': '2021-11-14 07:00', 'temp2m': 23, 'weather': 'lightrainday'}, {'datetime': '2021-11-14 10:00', 'temp2m': 24, 'weather': 'lightrainday'}, {'datetime': '2021-11-14 13:00', 'temp2m': 25, 'weather': 'lightrainday'}, {'datetime': '2021-11-14 16:00', 'temp2m': 26, 'weather': 'lightrainday'}, {'datetime': '2021-11-14 19:00', 'temp2m': 24, 'weather': 'lightrainnight'}, {'datetime': '2021-11-14 22:00', 'temp2m': 23, 'weather': 'lightrainnight'}, {'datetime': '2021-11-15 01:00', 'temp2m': 23, 'weather': 'oshowernight'}, {'datetime': '2021-11-15 04:00', 'temp2m': 22, 'weather': 'pcloudynight'}, {'datetime': '2021-11-15 07:00', 'temp2m': 22, 'weather': 'mcloudyday'}, {'datetime': '2021-11-15 10:00', 'temp2m': 27, 'weather': 'mcloudyday'}, {'datetime': '2021-11-15 13:00', 'temp2m': 29, 'weather': 'lightrainday'}, {'datetime': '2021-11-15 16:00', 'temp2m': 29, 'weather': 'lightrainday'}, {'datetime': '2021-11-15 19:00', 'temp2m': 26, 'weather': 'lightrainnight'}, {'datetime': '2021-11-15 22:00', 'temp2m': 25, 'weather': 'lightrainnight'}, {'datetime': '2021-11-16 01:00', 'temp2m': 24, 'weather': 'lightrainnight'}, {'datetime': '2021-11-16 04:00', 'temp2m': 24, 'weather': 'lightrainnight'}, {'datetime': '2021-11-16 07:00', 'temp2m': 24, 'weather': 'lightrainday'}, {'datetime': '2021-11-16 10:00', 'temp2m': 28, 'weather': 'lightrainday'}, {'datetime': '2021-11-16 13:00', 'temp2m': 30, 'weather': 'lightrainday'}, {'datetime': '2021-11-16 16:00', 'temp2m': 30, 'weather': 'oshowerday'}, {'datetime': '2021-11-16 19:00', 'temp2m': 27, 'weather': 'rainnight'}, {'datetime': '2021-11-16 22:00', 'temp2m': 26, 'weather': 'rainnight'}, {'datetime': '2021-11-17 01:00', 'temp2m': 25, 'weather': 'rainnight'}, {'datetime': '2021-11-17 04:00', 'temp2m': 24, 'weather': 'rainnight'}, {'datetime': '2021-11-17 07:00', 'temp2m': 24, 'weather': 'rainday'}, {'datetime': '2021-11-17 10:00', 'temp2m': 28, 'weather': 'rainday'}, {'datetime': '2021-11-17 13:00', 'temp2m': 30, 'weather': 'rainday'}, {'datetime': '2021-11-17 16:00', 'temp2m': 30, 'weather': 'rainday'}, {'datetime': '2021-11-17 19:00', 'temp2m': 27, 'weather': 'rainnight'}, {'datetime': '2021-11-17 22:00', 'temp2m': 26, 'weather': 'rainnight'}, {'datetime': '2021-11-18 01:00', 'temp2m': 25, 'weather': 'rainnight'}, {'datetime': '2021-11-18 04:00', 'temp2m': 24, 'weather': 'rainnight'}, {'datetime': '2021-11-18 07:00', 'temp2m': 24, 'weather': 'rainday'}, {'datetime': '2021-11-18 10:00', 'temp2m': 28, 'weather': 'rainday'}, {'datetime': '2021-11-18 13:00', 'temp2m': 30, 'weather': 'rainday'}, {'datetime': '2021-11-18 16:00', 'temp2m': 30, 'weather': 'rainday'}, {'datetime': '2021-11-18 19:00', 'temp2m': 26, 'weather': 'rainnight'}, {'datetime': '2021-11-18 22:00', 'temp2m': 25, 'weather': 'rainnight'}, {'datetime': '2021-11-19 01:00', 'temp2m': 25, 'weather': 'rainnight'}, {'datetime': '2021-11-19 04:00', 'temp2m': 24, 'weather': 'rainnight'}, {'datetime': '2021-11-19 07:00', 'temp2m': 24, 'weather': 'rainday'}, {'datetime': '2021-11-19 10:00', 'temp2m': 27, 'weather': 'rainday'}, {'datetime': '2021-11-19 13:00', 'temp2m': 31, 'weather': 'rainday'}, {'datetime': '2021-11-19 16:00', 'temp2m': 30, 'weather': 'rainday'}, {'datetime': '2021-11-19 19:00', 'temp2m': 27, 'weather': 'rainnight'}, {'datetime': '2021-11-19 22:00', 'temp2m': 27, 'weather': 'rainnight'}, {'datetime': '2021-11-20 01:00', 'temp2m': 25, 'weather': 'rainnight'}]\n",
            "district undefined\n",
            "subdistrict วังใหม่\n",
            "http://www.7timer.info/bin/api.pl?lon=101.132&lat=12.2985&product=civil&output=json\n"
          ]
        },
        {
          "name": "stderr",
          "output_type": "stream",
          "text": [
            "127.0.0.1 - - [12/Nov/2021 04:40:52] \"\u001b[37mGET /getweather?district=undefined&subdistrict=วังใหม่ HTTP/1.1\u001b[0m\" 200 -\n"
          ]
        },
        {
          "name": "stdout",
          "output_type": "stream",
          "text": [
            "[{'datetime': '2021-11-12 04:00', 'temp2m': 28, 'weather': 'lightrainnight'}, {'datetime': '2021-11-12 07:00', 'temp2m': 27, 'weather': 'lightrainday'}, {'datetime': '2021-11-12 10:00', 'temp2m': 27, 'weather': 'lightrainday'}, {'datetime': '2021-11-12 13:00', 'temp2m': 29, 'weather': 'oshowerday'}, {'datetime': '2021-11-12 16:00', 'temp2m': 29, 'weather': 'oshowerday'}, {'datetime': '2021-11-12 19:00', 'temp2m': 29, 'weather': 'lightrainnight'}, {'datetime': '2021-11-12 22:00', 'temp2m': 28, 'weather': 'lightrainnight'}, {'datetime': '2021-11-13 01:00', 'temp2m': 28, 'weather': 'lightrainnight'}, {'datetime': '2021-11-13 04:00', 'temp2m': 27, 'weather': 'lightrainnight'}, {'datetime': '2021-11-13 07:00', 'temp2m': 27, 'weather': 'lightrainday'}, {'datetime': '2021-11-13 10:00', 'temp2m': 27, 'weather': 'lightrainday'}, {'datetime': '2021-11-13 13:00', 'temp2m': 28, 'weather': 'lightrainday'}, {'datetime': '2021-11-13 16:00', 'temp2m': 28, 'weather': 'lightrainday'}, {'datetime': '2021-11-13 19:00', 'temp2m': 27, 'weather': 'lightrainnight'}, {'datetime': '2021-11-13 22:00', 'temp2m': 26, 'weather': 'rainnight'}, {'datetime': '2021-11-14 01:00', 'temp2m': 25, 'weather': 'rainnight'}, {'datetime': '2021-11-14 04:00', 'temp2m': 24, 'weather': 'rainnight'}, {'datetime': '2021-11-14 07:00', 'temp2m': 24, 'weather': 'rainday'}, {'datetime': '2021-11-14 10:00', 'temp2m': 25, 'weather': 'rainday'}, {'datetime': '2021-11-14 13:00', 'temp2m': 25, 'weather': 'rainday'}, {'datetime': '2021-11-14 16:00', 'temp2m': 26, 'weather': 'rainday'}, {'datetime': '2021-11-14 19:00', 'temp2m': 27, 'weather': 'rainnight'}, {'datetime': '2021-11-14 22:00', 'temp2m': 27, 'weather': 'rainnight'}, {'datetime': '2021-11-15 01:00', 'temp2m': 26, 'weather': 'rainnight'}, {'datetime': '2021-11-15 04:00', 'temp2m': 26, 'weather': 'rainnight'}, {'datetime': '2021-11-15 07:00', 'temp2m': 26, 'weather': 'rainday'}, {'datetime': '2021-11-15 10:00', 'temp2m': 25, 'weather': 'rainday'}, {'datetime': '2021-11-15 13:00', 'temp2m': 26, 'weather': 'rainday'}, {'datetime': '2021-11-15 16:00', 'temp2m': 27, 'weather': 'rainday'}, {'datetime': '2021-11-15 19:00', 'temp2m': 27, 'weather': 'rainnight'}, {'datetime': '2021-11-15 22:00', 'temp2m': 28, 'weather': 'rainnight'}, {'datetime': '2021-11-16 01:00', 'temp2m': 27, 'weather': 'rainnight'}, {'datetime': '2021-11-16 04:00', 'temp2m': 27, 'weather': 'rainnight'}, {'datetime': '2021-11-16 07:00', 'temp2m': 26, 'weather': 'rainday'}, {'datetime': '2021-11-16 10:00', 'temp2m': 27, 'weather': 'rainday'}, {'datetime': '2021-11-16 13:00', 'temp2m': 27, 'weather': 'rainday'}, {'datetime': '2021-11-16 16:00', 'temp2m': 28, 'weather': 'rainday'}, {'datetime': '2021-11-16 19:00', 'temp2m': 28, 'weather': 'rainnight'}, {'datetime': '2021-11-16 22:00', 'temp2m': 28, 'weather': 'rainnight'}, {'datetime': '2021-11-17 01:00', 'temp2m': 27, 'weather': 'rainnight'}, {'datetime': '2021-11-17 04:00', 'temp2m': 27, 'weather': 'rainnight'}, {'datetime': '2021-11-17 07:00', 'temp2m': 26, 'weather': 'rainday'}, {'datetime': '2021-11-17 10:00', 'temp2m': 26, 'weather': 'rainday'}, {'datetime': '2021-11-17 13:00', 'temp2m': 27, 'weather': 'rainday'}, {'datetime': '2021-11-17 16:00', 'temp2m': 27, 'weather': 'rainday'}, {'datetime': '2021-11-17 19:00', 'temp2m': 28, 'weather': 'rainnight'}, {'datetime': '2021-11-17 22:00', 'temp2m': 28, 'weather': 'cloudynight'}, {'datetime': '2021-11-18 01:00', 'temp2m': 28, 'weather': 'rainnight'}, {'datetime': '2021-11-18 04:00', 'temp2m': 27, 'weather': 'rainnight'}, {'datetime': '2021-11-18 07:00', 'temp2m': 27, 'weather': 'rainday'}, {'datetime': '2021-11-18 10:00', 'temp2m': 27, 'weather': 'rainday'}, {'datetime': '2021-11-18 13:00', 'temp2m': 28, 'weather': 'rainday'}, {'datetime': '2021-11-18 16:00', 'temp2m': 28, 'weather': 'rainday'}, {'datetime': '2021-11-18 19:00', 'temp2m': 28, 'weather': 'rainnight'}, {'datetime': '2021-11-18 22:00', 'temp2m': 28, 'weather': 'rainnight'}, {'datetime': '2021-11-19 01:00', 'temp2m': 28, 'weather': 'rainnight'}, {'datetime': '2021-11-19 04:00', 'temp2m': 27, 'weather': 'rainnight'}, {'datetime': '2021-11-19 07:00', 'temp2m': 27, 'weather': 'rainday'}, {'datetime': '2021-11-19 10:00', 'temp2m': 28, 'weather': 'rainday'}, {'datetime': '2021-11-19 13:00', 'temp2m': 27, 'weather': 'rainday'}, {'datetime': '2021-11-19 16:00', 'temp2m': 27, 'weather': 'rainday'}, {'datetime': '2021-11-19 19:00', 'temp2m': 28, 'weather': 'rainnight'}, {'datetime': '2021-11-19 22:00', 'temp2m': 28, 'weather': 'cloudynight'}, {'datetime': '2021-11-20 01:00', 'temp2m': 28, 'weather': 'mcloudynight'}]\n",
            "district ปทุมวัน\n",
            "subdistrict วังใหม่\n",
            "http://www.7timer.info/bin/api.pl?lon=100.526&lat=13.742&product=civil&output=json\n"
          ]
        },
        {
          "name": "stderr",
          "output_type": "stream",
          "text": [
            "127.0.0.1 - - [12/Nov/2021 04:41:14] \"\u001b[37mGET /getweather?district=ปทุมวัน&subdistrict=วังใหม่ HTTP/1.1\u001b[0m\" 200 -\n"
          ]
        },
        {
          "name": "stdout",
          "output_type": "stream",
          "text": [
            "[{'datetime': '2021-11-12 04:00', 'temp2m': 24, 'weather': 'lightrainnight'}, {'datetime': '2021-11-12 07:00', 'temp2m': 24, 'weather': 'lightrainday'}, {'datetime': '2021-11-12 10:00', 'temp2m': 26, 'weather': 'cloudyday'}, {'datetime': '2021-11-12 13:00', 'temp2m': 30, 'weather': 'mcloudyday'}, {'datetime': '2021-11-12 16:00', 'temp2m': 29, 'weather': 'lightrainday'}, {'datetime': '2021-11-12 19:00', 'temp2m': 26, 'weather': 'lightrainnight'}, {'datetime': '2021-11-12 22:00', 'temp2m': 26, 'weather': 'lightrainnight'}, {'datetime': '2021-11-13 01:00', 'temp2m': 25, 'weather': 'oshowernight'}, {'datetime': '2021-11-13 04:00', 'temp2m': 24, 'weather': 'lightrainnight'}, {'datetime': '2021-11-13 07:00', 'temp2m': 24, 'weather': 'lightrainday'}, {'datetime': '2021-11-13 10:00', 'temp2m': 27, 'weather': 'cloudyday'}, {'datetime': '2021-11-13 13:00', 'temp2m': 28, 'weather': 'lightrainday'}, {'datetime': '2021-11-13 16:00', 'temp2m': 28, 'weather': 'oshowerday'}, {'datetime': '2021-11-13 19:00', 'temp2m': 26, 'weather': 'lightrainnight'}, {'datetime': '2021-11-13 22:00', 'temp2m': 25, 'weather': 'lightrainnight'}, {'datetime': '2021-11-14 01:00', 'temp2m': 24, 'weather': 'lightrainnight'}, {'datetime': '2021-11-14 04:00', 'temp2m': 23, 'weather': 'lightrainnight'}, {'datetime': '2021-11-14 07:00', 'temp2m': 23, 'weather': 'lightrainday'}, {'datetime': '2021-11-14 10:00', 'temp2m': 24, 'weather': 'lightrainday'}, {'datetime': '2021-11-14 13:00', 'temp2m': 25, 'weather': 'lightrainday'}, {'datetime': '2021-11-14 16:00', 'temp2m': 26, 'weather': 'lightrainday'}, {'datetime': '2021-11-14 19:00', 'temp2m': 24, 'weather': 'lightrainnight'}, {'datetime': '2021-11-14 22:00', 'temp2m': 23, 'weather': 'lightrainnight'}, {'datetime': '2021-11-15 01:00', 'temp2m': 23, 'weather': 'oshowernight'}, {'datetime': '2021-11-15 04:00', 'temp2m': 22, 'weather': 'pcloudynight'}, {'datetime': '2021-11-15 07:00', 'temp2m': 22, 'weather': 'mcloudyday'}, {'datetime': '2021-11-15 10:00', 'temp2m': 27, 'weather': 'mcloudyday'}, {'datetime': '2021-11-15 13:00', 'temp2m': 29, 'weather': 'lightrainday'}, {'datetime': '2021-11-15 16:00', 'temp2m': 29, 'weather': 'lightrainday'}, {'datetime': '2021-11-15 19:00', 'temp2m': 26, 'weather': 'lightrainnight'}, {'datetime': '2021-11-15 22:00', 'temp2m': 25, 'weather': 'lightrainnight'}, {'datetime': '2021-11-16 01:00', 'temp2m': 24, 'weather': 'lightrainnight'}, {'datetime': '2021-11-16 04:00', 'temp2m': 24, 'weather': 'lightrainnight'}, {'datetime': '2021-11-16 07:00', 'temp2m': 24, 'weather': 'lightrainday'}, {'datetime': '2021-11-16 10:00', 'temp2m': 28, 'weather': 'lightrainday'}, {'datetime': '2021-11-16 13:00', 'temp2m': 30, 'weather': 'lightrainday'}, {'datetime': '2021-11-16 16:00', 'temp2m': 30, 'weather': 'oshowerday'}, {'datetime': '2021-11-16 19:00', 'temp2m': 27, 'weather': 'rainnight'}, {'datetime': '2021-11-16 22:00', 'temp2m': 26, 'weather': 'rainnight'}, {'datetime': '2021-11-17 01:00', 'temp2m': 25, 'weather': 'rainnight'}, {'datetime': '2021-11-17 04:00', 'temp2m': 24, 'weather': 'rainnight'}, {'datetime': '2021-11-17 07:00', 'temp2m': 24, 'weather': 'rainday'}, {'datetime': '2021-11-17 10:00', 'temp2m': 28, 'weather': 'rainday'}, {'datetime': '2021-11-17 13:00', 'temp2m': 30, 'weather': 'rainday'}, {'datetime': '2021-11-17 16:00', 'temp2m': 30, 'weather': 'rainday'}, {'datetime': '2021-11-17 19:00', 'temp2m': 27, 'weather': 'rainnight'}, {'datetime': '2021-11-17 22:00', 'temp2m': 26, 'weather': 'rainnight'}, {'datetime': '2021-11-18 01:00', 'temp2m': 25, 'weather': 'rainnight'}, {'datetime': '2021-11-18 04:00', 'temp2m': 24, 'weather': 'rainnight'}, {'datetime': '2021-11-18 07:00', 'temp2m': 24, 'weather': 'rainday'}, {'datetime': '2021-11-18 10:00', 'temp2m': 28, 'weather': 'rainday'}, {'datetime': '2021-11-18 13:00', 'temp2m': 30, 'weather': 'rainday'}, {'datetime': '2021-11-18 16:00', 'temp2m': 30, 'weather': 'rainday'}, {'datetime': '2021-11-18 19:00', 'temp2m': 26, 'weather': 'rainnight'}, {'datetime': '2021-11-18 22:00', 'temp2m': 25, 'weather': 'rainnight'}, {'datetime': '2021-11-19 01:00', 'temp2m': 25, 'weather': 'rainnight'}, {'datetime': '2021-11-19 04:00', 'temp2m': 24, 'weather': 'rainnight'}, {'datetime': '2021-11-19 07:00', 'temp2m': 24, 'weather': 'rainday'}, {'datetime': '2021-11-19 10:00', 'temp2m': 27, 'weather': 'rainday'}, {'datetime': '2021-11-19 13:00', 'temp2m': 31, 'weather': 'rainday'}, {'datetime': '2021-11-19 16:00', 'temp2m': 30, 'weather': 'rainday'}, {'datetime': '2021-11-19 19:00', 'temp2m': 27, 'weather': 'rainnight'}, {'datetime': '2021-11-19 22:00', 'temp2m': 27, 'weather': 'rainnight'}, {'datetime': '2021-11-20 01:00', 'temp2m': 25, 'weather': 'rainnight'}]\n",
            "district ปทุมวัน\n",
            "subdistrict วังใหม่\n",
            "http://www.7timer.info/bin/api.pl?lon=100.526&lat=13.742&product=civil&output=json\n"
          ]
        },
        {
          "name": "stderr",
          "output_type": "stream",
          "text": [
            "127.0.0.1 - - [12/Nov/2021 04:41:28] \"\u001b[37mGET /getweather?district=ปทุมวัน&subdistrict=วังใหม่ HTTP/1.1\u001b[0m\" 200 -\n"
          ]
        },
        {
          "name": "stdout",
          "output_type": "stream",
          "text": [
            "[{'datetime': '2021-11-12 04:00', 'temp2m': 24, 'weather': 'lightrainnight'}, {'datetime': '2021-11-12 07:00', 'temp2m': 24, 'weather': 'lightrainday'}, {'datetime': '2021-11-12 10:00', 'temp2m': 26, 'weather': 'cloudyday'}, {'datetime': '2021-11-12 13:00', 'temp2m': 30, 'weather': 'mcloudyday'}, {'datetime': '2021-11-12 16:00', 'temp2m': 29, 'weather': 'lightrainday'}, {'datetime': '2021-11-12 19:00', 'temp2m': 26, 'weather': 'lightrainnight'}, {'datetime': '2021-11-12 22:00', 'temp2m': 26, 'weather': 'lightrainnight'}, {'datetime': '2021-11-13 01:00', 'temp2m': 25, 'weather': 'oshowernight'}, {'datetime': '2021-11-13 04:00', 'temp2m': 24, 'weather': 'lightrainnight'}, {'datetime': '2021-11-13 07:00', 'temp2m': 24, 'weather': 'lightrainday'}, {'datetime': '2021-11-13 10:00', 'temp2m': 27, 'weather': 'cloudyday'}, {'datetime': '2021-11-13 13:00', 'temp2m': 28, 'weather': 'lightrainday'}, {'datetime': '2021-11-13 16:00', 'temp2m': 28, 'weather': 'oshowerday'}, {'datetime': '2021-11-13 19:00', 'temp2m': 26, 'weather': 'lightrainnight'}, {'datetime': '2021-11-13 22:00', 'temp2m': 25, 'weather': 'lightrainnight'}, {'datetime': '2021-11-14 01:00', 'temp2m': 24, 'weather': 'lightrainnight'}, {'datetime': '2021-11-14 04:00', 'temp2m': 23, 'weather': 'lightrainnight'}, {'datetime': '2021-11-14 07:00', 'temp2m': 23, 'weather': 'lightrainday'}, {'datetime': '2021-11-14 10:00', 'temp2m': 24, 'weather': 'lightrainday'}, {'datetime': '2021-11-14 13:00', 'temp2m': 25, 'weather': 'lightrainday'}, {'datetime': '2021-11-14 16:00', 'temp2m': 26, 'weather': 'lightrainday'}, {'datetime': '2021-11-14 19:00', 'temp2m': 24, 'weather': 'lightrainnight'}, {'datetime': '2021-11-14 22:00', 'temp2m': 23, 'weather': 'lightrainnight'}, {'datetime': '2021-11-15 01:00', 'temp2m': 23, 'weather': 'oshowernight'}, {'datetime': '2021-11-15 04:00', 'temp2m': 22, 'weather': 'pcloudynight'}, {'datetime': '2021-11-15 07:00', 'temp2m': 22, 'weather': 'mcloudyday'}, {'datetime': '2021-11-15 10:00', 'temp2m': 27, 'weather': 'mcloudyday'}, {'datetime': '2021-11-15 13:00', 'temp2m': 29, 'weather': 'lightrainday'}, {'datetime': '2021-11-15 16:00', 'temp2m': 29, 'weather': 'lightrainday'}, {'datetime': '2021-11-15 19:00', 'temp2m': 26, 'weather': 'lightrainnight'}, {'datetime': '2021-11-15 22:00', 'temp2m': 25, 'weather': 'lightrainnight'}, {'datetime': '2021-11-16 01:00', 'temp2m': 24, 'weather': 'lightrainnight'}, {'datetime': '2021-11-16 04:00', 'temp2m': 24, 'weather': 'lightrainnight'}, {'datetime': '2021-11-16 07:00', 'temp2m': 24, 'weather': 'lightrainday'}, {'datetime': '2021-11-16 10:00', 'temp2m': 28, 'weather': 'lightrainday'}, {'datetime': '2021-11-16 13:00', 'temp2m': 30, 'weather': 'lightrainday'}, {'datetime': '2021-11-16 16:00', 'temp2m': 30, 'weather': 'oshowerday'}, {'datetime': '2021-11-16 19:00', 'temp2m': 27, 'weather': 'rainnight'}, {'datetime': '2021-11-16 22:00', 'temp2m': 26, 'weather': 'rainnight'}, {'datetime': '2021-11-17 01:00', 'temp2m': 25, 'weather': 'rainnight'}, {'datetime': '2021-11-17 04:00', 'temp2m': 24, 'weather': 'rainnight'}, {'datetime': '2021-11-17 07:00', 'temp2m': 24, 'weather': 'rainday'}, {'datetime': '2021-11-17 10:00', 'temp2m': 28, 'weather': 'rainday'}, {'datetime': '2021-11-17 13:00', 'temp2m': 30, 'weather': 'rainday'}, {'datetime': '2021-11-17 16:00', 'temp2m': 30, 'weather': 'rainday'}, {'datetime': '2021-11-17 19:00', 'temp2m': 27, 'weather': 'rainnight'}, {'datetime': '2021-11-17 22:00', 'temp2m': 26, 'weather': 'rainnight'}, {'datetime': '2021-11-18 01:00', 'temp2m': 25, 'weather': 'rainnight'}, {'datetime': '2021-11-18 04:00', 'temp2m': 24, 'weather': 'rainnight'}, {'datetime': '2021-11-18 07:00', 'temp2m': 24, 'weather': 'rainday'}, {'datetime': '2021-11-18 10:00', 'temp2m': 28, 'weather': 'rainday'}, {'datetime': '2021-11-18 13:00', 'temp2m': 30, 'weather': 'rainday'}, {'datetime': '2021-11-18 16:00', 'temp2m': 30, 'weather': 'rainday'}, {'datetime': '2021-11-18 19:00', 'temp2m': 26, 'weather': 'rainnight'}, {'datetime': '2021-11-18 22:00', 'temp2m': 25, 'weather': 'rainnight'}, {'datetime': '2021-11-19 01:00', 'temp2m': 25, 'weather': 'rainnight'}, {'datetime': '2021-11-19 04:00', 'temp2m': 24, 'weather': 'rainnight'}, {'datetime': '2021-11-19 07:00', 'temp2m': 24, 'weather': 'rainday'}, {'datetime': '2021-11-19 10:00', 'temp2m': 27, 'weather': 'rainday'}, {'datetime': '2021-11-19 13:00', 'temp2m': 31, 'weather': 'rainday'}, {'datetime': '2021-11-19 16:00', 'temp2m': 30, 'weather': 'rainday'}, {'datetime': '2021-11-19 19:00', 'temp2m': 27, 'weather': 'rainnight'}, {'datetime': '2021-11-19 22:00', 'temp2m': 27, 'weather': 'rainnight'}, {'datetime': '2021-11-20 01:00', 'temp2m': 25, 'weather': 'rainnight'}]\n",
            "district ปทุมวัน\n",
            "subdistrict \n",
            "http://www.7timer.info/bin/api.pl?lon=100.53175&lat=13.7405&product=civil&output=json\n"
          ]
        },
        {
          "name": "stderr",
          "output_type": "stream",
          "text": [
            "127.0.0.1 - - [12/Nov/2021 04:41:38] \"\u001b[37mGET /getweather?district=ปทุมวัน&subdistrict= HTTP/1.1\u001b[0m\" 200 -\n"
          ]
        },
        {
          "name": "stdout",
          "output_type": "stream",
          "text": [
            "[{'datetime': '2021-11-12 04:00', 'temp2m': 24, 'weather': 'lightrainnight'}, {'datetime': '2021-11-12 07:00', 'temp2m': 24, 'weather': 'lightrainday'}, {'datetime': '2021-11-12 10:00', 'temp2m': 26, 'weather': 'cloudyday'}, {'datetime': '2021-11-12 13:00', 'temp2m': 30, 'weather': 'mcloudyday'}, {'datetime': '2021-11-12 16:00', 'temp2m': 29, 'weather': 'lightrainday'}, {'datetime': '2021-11-12 19:00', 'temp2m': 26, 'weather': 'lightrainnight'}, {'datetime': '2021-11-12 22:00', 'temp2m': 26, 'weather': 'lightrainnight'}, {'datetime': '2021-11-13 01:00', 'temp2m': 25, 'weather': 'oshowernight'}, {'datetime': '2021-11-13 04:00', 'temp2m': 24, 'weather': 'lightrainnight'}, {'datetime': '2021-11-13 07:00', 'temp2m': 24, 'weather': 'lightrainday'}, {'datetime': '2021-11-13 10:00', 'temp2m': 27, 'weather': 'cloudyday'}, {'datetime': '2021-11-13 13:00', 'temp2m': 28, 'weather': 'lightrainday'}, {'datetime': '2021-11-13 16:00', 'temp2m': 28, 'weather': 'oshowerday'}, {'datetime': '2021-11-13 19:00', 'temp2m': 26, 'weather': 'lightrainnight'}, {'datetime': '2021-11-13 22:00', 'temp2m': 25, 'weather': 'lightrainnight'}, {'datetime': '2021-11-14 01:00', 'temp2m': 24, 'weather': 'lightrainnight'}, {'datetime': '2021-11-14 04:00', 'temp2m': 23, 'weather': 'lightrainnight'}, {'datetime': '2021-11-14 07:00', 'temp2m': 23, 'weather': 'lightrainday'}, {'datetime': '2021-11-14 10:00', 'temp2m': 24, 'weather': 'lightrainday'}, {'datetime': '2021-11-14 13:00', 'temp2m': 25, 'weather': 'lightrainday'}, {'datetime': '2021-11-14 16:00', 'temp2m': 26, 'weather': 'lightrainday'}, {'datetime': '2021-11-14 19:00', 'temp2m': 24, 'weather': 'lightrainnight'}, {'datetime': '2021-11-14 22:00', 'temp2m': 23, 'weather': 'lightrainnight'}, {'datetime': '2021-11-15 01:00', 'temp2m': 23, 'weather': 'oshowernight'}, {'datetime': '2021-11-15 04:00', 'temp2m': 22, 'weather': 'pcloudynight'}, {'datetime': '2021-11-15 07:00', 'temp2m': 22, 'weather': 'mcloudyday'}, {'datetime': '2021-11-15 10:00', 'temp2m': 27, 'weather': 'mcloudyday'}, {'datetime': '2021-11-15 13:00', 'temp2m': 29, 'weather': 'lightrainday'}, {'datetime': '2021-11-15 16:00', 'temp2m': 29, 'weather': 'lightrainday'}, {'datetime': '2021-11-15 19:00', 'temp2m': 26, 'weather': 'lightrainnight'}, {'datetime': '2021-11-15 22:00', 'temp2m': 25, 'weather': 'lightrainnight'}, {'datetime': '2021-11-16 01:00', 'temp2m': 24, 'weather': 'lightrainnight'}, {'datetime': '2021-11-16 04:00', 'temp2m': 24, 'weather': 'lightrainnight'}, {'datetime': '2021-11-16 07:00', 'temp2m': 24, 'weather': 'lightrainday'}, {'datetime': '2021-11-16 10:00', 'temp2m': 28, 'weather': 'lightrainday'}, {'datetime': '2021-11-16 13:00', 'temp2m': 30, 'weather': 'lightrainday'}, {'datetime': '2021-11-16 16:00', 'temp2m': 30, 'weather': 'oshowerday'}, {'datetime': '2021-11-16 19:00', 'temp2m': 27, 'weather': 'rainnight'}, {'datetime': '2021-11-16 22:00', 'temp2m': 26, 'weather': 'rainnight'}, {'datetime': '2021-11-17 01:00', 'temp2m': 25, 'weather': 'rainnight'}, {'datetime': '2021-11-17 04:00', 'temp2m': 24, 'weather': 'rainnight'}, {'datetime': '2021-11-17 07:00', 'temp2m': 24, 'weather': 'rainday'}, {'datetime': '2021-11-17 10:00', 'temp2m': 28, 'weather': 'rainday'}, {'datetime': '2021-11-17 13:00', 'temp2m': 30, 'weather': 'rainday'}, {'datetime': '2021-11-17 16:00', 'temp2m': 30, 'weather': 'rainday'}, {'datetime': '2021-11-17 19:00', 'temp2m': 27, 'weather': 'rainnight'}, {'datetime': '2021-11-17 22:00', 'temp2m': 26, 'weather': 'rainnight'}, {'datetime': '2021-11-18 01:00', 'temp2m': 25, 'weather': 'rainnight'}, {'datetime': '2021-11-18 04:00', 'temp2m': 24, 'weather': 'rainnight'}, {'datetime': '2021-11-18 07:00', 'temp2m': 24, 'weather': 'rainday'}, {'datetime': '2021-11-18 10:00', 'temp2m': 28, 'weather': 'rainday'}, {'datetime': '2021-11-18 13:00', 'temp2m': 30, 'weather': 'rainday'}, {'datetime': '2021-11-18 16:00', 'temp2m': 30, 'weather': 'rainday'}, {'datetime': '2021-11-18 19:00', 'temp2m': 26, 'weather': 'rainnight'}, {'datetime': '2021-11-18 22:00', 'temp2m': 25, 'weather': 'rainnight'}, {'datetime': '2021-11-19 01:00', 'temp2m': 25, 'weather': 'rainnight'}, {'datetime': '2021-11-19 04:00', 'temp2m': 24, 'weather': 'rainnight'}, {'datetime': '2021-11-19 07:00', 'temp2m': 24, 'weather': 'rainday'}, {'datetime': '2021-11-19 10:00', 'temp2m': 27, 'weather': 'rainday'}, {'datetime': '2021-11-19 13:00', 'temp2m': 31, 'weather': 'rainday'}, {'datetime': '2021-11-19 16:00', 'temp2m': 30, 'weather': 'rainday'}, {'datetime': '2021-11-19 19:00', 'temp2m': 27, 'weather': 'rainnight'}, {'datetime': '2021-11-19 22:00', 'temp2m': 27, 'weather': 'rainnight'}, {'datetime': '2021-11-20 01:00', 'temp2m': 25, 'weather': 'rainnight'}]\n",
            "district บางกะปิ\n",
            "subdistrict \n",
            "http://www.7timer.info/bin/api.pl?lon=100.6475&lat=13.771&product=civil&output=json\n"
          ]
        },
        {
          "name": "stderr",
          "output_type": "stream",
          "text": [
            "127.0.0.1 - - [12/Nov/2021 04:41:46] \"\u001b[37mGET /getweather?district=บางกะปิ&subdistrict= HTTP/1.1\u001b[0m\" 200 -\n"
          ]
        },
        {
          "name": "stdout",
          "output_type": "stream",
          "text": [
            "[{'datetime': '2021-11-12 04:00', 'temp2m': 25, 'weather': 'lightrainnight'}, {'datetime': '2021-11-12 07:00', 'temp2m': 25, 'weather': 'lightrainday'}, {'datetime': '2021-11-12 10:00', 'temp2m': 27, 'weather': 'cloudyday'}, {'datetime': '2021-11-12 13:00', 'temp2m': 30, 'weather': 'cloudyday'}, {'datetime': '2021-11-12 16:00', 'temp2m': 29, 'weather': 'lightrainday'}, {'datetime': '2021-11-12 19:00', 'temp2m': 27, 'weather': 'oshowernight'}, {'datetime': '2021-11-12 22:00', 'temp2m': 26, 'weather': 'lightrainnight'}, {'datetime': '2021-11-13 01:00', 'temp2m': 25, 'weather': 'oshowernight'}, {'datetime': '2021-11-13 04:00', 'temp2m': 24, 'weather': 'cloudynight'}, {'datetime': '2021-11-13 07:00', 'temp2m': 24, 'weather': 'cloudyday'}, {'datetime': '2021-11-13 10:00', 'temp2m': 28, 'weather': 'cloudyday'}, {'datetime': '2021-11-13 13:00', 'temp2m': 29, 'weather': 'lightrainday'}, {'datetime': '2021-11-13 16:00', 'temp2m': 28, 'weather': 'lightrainday'}, {'datetime': '2021-11-13 19:00', 'temp2m': 26, 'weather': 'lightrainnight'}, {'datetime': '2021-11-13 22:00', 'temp2m': 25, 'weather': 'lightrainnight'}, {'datetime': '2021-11-14 01:00', 'temp2m': 24, 'weather': 'lightrainnight'}, {'datetime': '2021-11-14 04:00', 'temp2m': 24, 'weather': 'cloudynight'}, {'datetime': '2021-11-14 07:00', 'temp2m': 24, 'weather': 'cloudyday'}, {'datetime': '2021-11-14 10:00', 'temp2m': 23, 'weather': 'lightrainday'}, {'datetime': '2021-11-14 13:00', 'temp2m': 26, 'weather': 'lightrainday'}, {'datetime': '2021-11-14 16:00', 'temp2m': 26, 'weather': 'cloudyday'}, {'datetime': '2021-11-14 19:00', 'temp2m': 25, 'weather': 'cloudynight'}, {'datetime': '2021-11-14 22:00', 'temp2m': 24, 'weather': 'cloudynight'}, {'datetime': '2021-11-15 01:00', 'temp2m': 24, 'weather': 'mcloudynight'}, {'datetime': '2021-11-15 04:00', 'temp2m': 23, 'weather': 'cloudynight'}, {'datetime': '2021-11-15 07:00', 'temp2m': 23, 'weather': 'cloudyday'}, {'datetime': '2021-11-15 10:00', 'temp2m': 26, 'weather': 'cloudyday'}, {'datetime': '2021-11-15 13:00', 'temp2m': 29, 'weather': 'cloudyday'}, {'datetime': '2021-11-15 16:00', 'temp2m': 28, 'weather': 'lightrainday'}, {'datetime': '2021-11-15 19:00', 'temp2m': 25, 'weather': 'lightrainnight'}, {'datetime': '2021-11-15 22:00', 'temp2m': 25, 'weather': 'lightrainnight'}, {'datetime': '2021-11-16 01:00', 'temp2m': 25, 'weather': 'lightrainnight'}, {'datetime': '2021-11-16 04:00', 'temp2m': 24, 'weather': 'ishowernight'}, {'datetime': '2021-11-16 07:00', 'temp2m': 24, 'weather': 'mcloudyday'}, {'datetime': '2021-11-16 10:00', 'temp2m': 28, 'weather': 'cloudyday'}, {'datetime': '2021-11-16 13:00', 'temp2m': 29, 'weather': 'lightrainday'}, {'datetime': '2021-11-16 16:00', 'temp2m': 30, 'weather': 'oshowerday'}, {'datetime': '2021-11-16 19:00', 'temp2m': 27, 'weather': 'lightrainnight'}, {'datetime': '2021-11-16 22:00', 'temp2m': 26, 'weather': 'rainnight'}, {'datetime': '2021-11-17 01:00', 'temp2m': 25, 'weather': 'rainnight'}, {'datetime': '2021-11-17 04:00', 'temp2m': 25, 'weather': 'rainnight'}, {'datetime': '2021-11-17 07:00', 'temp2m': 24, 'weather': 'rainday'}, {'datetime': '2021-11-17 10:00', 'temp2m': 28, 'weather': 'rainday'}, {'datetime': '2021-11-17 13:00', 'temp2m': 30, 'weather': 'rainday'}, {'datetime': '2021-11-17 16:00', 'temp2m': 29, 'weather': 'rainday'}, {'datetime': '2021-11-17 19:00', 'temp2m': 27, 'weather': 'rainnight'}, {'datetime': '2021-11-17 22:00', 'temp2m': 26, 'weather': 'rainnight'}, {'datetime': '2021-11-18 01:00', 'temp2m': 25, 'weather': 'rainnight'}, {'datetime': '2021-11-18 04:00', 'temp2m': 24, 'weather': 'rainnight'}, {'datetime': '2021-11-18 07:00', 'temp2m': 24, 'weather': 'rainday'}, {'datetime': '2021-11-18 10:00', 'temp2m': 29, 'weather': 'rainday'}, {'datetime': '2021-11-18 13:00', 'temp2m': 30, 'weather': 'rainday'}, {'datetime': '2021-11-18 16:00', 'temp2m': 30, 'weather': 'rainday'}, {'datetime': '2021-11-18 19:00', 'temp2m': 27, 'weather': 'rainnight'}, {'datetime': '2021-11-18 22:00', 'temp2m': 26, 'weather': 'rainnight'}, {'datetime': '2021-11-19 01:00', 'temp2m': 25, 'weather': 'rainnight'}, {'datetime': '2021-11-19 04:00', 'temp2m': 25, 'weather': 'cloudynight'}, {'datetime': '2021-11-19 07:00', 'temp2m': 24, 'weather': 'cloudyday'}, {'datetime': '2021-11-19 10:00', 'temp2m': 28, 'weather': 'rainday'}, {'datetime': '2021-11-19 13:00', 'temp2m': 31, 'weather': 'rainday'}, {'datetime': '2021-11-19 16:00', 'temp2m': 30, 'weather': 'rainday'}, {'datetime': '2021-11-19 19:00', 'temp2m': 28, 'weather': 'rainnight'}, {'datetime': '2021-11-19 22:00', 'temp2m': 26, 'weather': 'rainnight'}, {'datetime': '2021-11-20 01:00', 'temp2m': 25, 'weather': 'rainnight'}]\n",
            "district \n",
            "subdistrict คลองกุ่ม\n",
            "http://www.7timer.info/bin/api.pl?lon=100.65&lat=13.808&product=civil&output=json\n"
          ]
        },
        {
          "name": "stderr",
          "output_type": "stream",
          "text": [
            "127.0.0.1 - - [12/Nov/2021 04:42:05] \"\u001b[37mGET /getweather?district=&subdistrict=คลองกุ่ม HTTP/1.1\u001b[0m\" 200 -\n"
          ]
        },
        {
          "name": "stdout",
          "output_type": "stream",
          "text": [
            "[{'datetime': '2021-11-12 04:00', 'temp2m': 25, 'weather': 'lightrainnight'}, {'datetime': '2021-11-12 07:00', 'temp2m': 25, 'weather': 'lightrainday'}, {'datetime': '2021-11-12 10:00', 'temp2m': 27, 'weather': 'cloudyday'}, {'datetime': '2021-11-12 13:00', 'temp2m': 30, 'weather': 'cloudyday'}, {'datetime': '2021-11-12 16:00', 'temp2m': 29, 'weather': 'lightrainday'}, {'datetime': '2021-11-12 19:00', 'temp2m': 27, 'weather': 'oshowernight'}, {'datetime': '2021-11-12 22:00', 'temp2m': 26, 'weather': 'lightrainnight'}, {'datetime': '2021-11-13 01:00', 'temp2m': 25, 'weather': 'oshowernight'}, {'datetime': '2021-11-13 04:00', 'temp2m': 24, 'weather': 'cloudynight'}, {'datetime': '2021-11-13 07:00', 'temp2m': 24, 'weather': 'cloudyday'}, {'datetime': '2021-11-13 10:00', 'temp2m': 28, 'weather': 'cloudyday'}, {'datetime': '2021-11-13 13:00', 'temp2m': 29, 'weather': 'lightrainday'}, {'datetime': '2021-11-13 16:00', 'temp2m': 28, 'weather': 'lightrainday'}, {'datetime': '2021-11-13 19:00', 'temp2m': 26, 'weather': 'lightrainnight'}, {'datetime': '2021-11-13 22:00', 'temp2m': 25, 'weather': 'lightrainnight'}, {'datetime': '2021-11-14 01:00', 'temp2m': 24, 'weather': 'lightrainnight'}, {'datetime': '2021-11-14 04:00', 'temp2m': 24, 'weather': 'cloudynight'}, {'datetime': '2021-11-14 07:00', 'temp2m': 24, 'weather': 'cloudyday'}, {'datetime': '2021-11-14 10:00', 'temp2m': 23, 'weather': 'lightrainday'}, {'datetime': '2021-11-14 13:00', 'temp2m': 26, 'weather': 'lightrainday'}, {'datetime': '2021-11-14 16:00', 'temp2m': 26, 'weather': 'cloudyday'}, {'datetime': '2021-11-14 19:00', 'temp2m': 25, 'weather': 'cloudynight'}, {'datetime': '2021-11-14 22:00', 'temp2m': 24, 'weather': 'cloudynight'}, {'datetime': '2021-11-15 01:00', 'temp2m': 24, 'weather': 'mcloudynight'}, {'datetime': '2021-11-15 04:00', 'temp2m': 23, 'weather': 'cloudynight'}, {'datetime': '2021-11-15 07:00', 'temp2m': 23, 'weather': 'cloudyday'}, {'datetime': '2021-11-15 10:00', 'temp2m': 26, 'weather': 'cloudyday'}, {'datetime': '2021-11-15 13:00', 'temp2m': 29, 'weather': 'cloudyday'}, {'datetime': '2021-11-15 16:00', 'temp2m': 28, 'weather': 'lightrainday'}, {'datetime': '2021-11-15 19:00', 'temp2m': 25, 'weather': 'lightrainnight'}, {'datetime': '2021-11-15 22:00', 'temp2m': 25, 'weather': 'lightrainnight'}, {'datetime': '2021-11-16 01:00', 'temp2m': 25, 'weather': 'lightrainnight'}, {'datetime': '2021-11-16 04:00', 'temp2m': 24, 'weather': 'ishowernight'}, {'datetime': '2021-11-16 07:00', 'temp2m': 24, 'weather': 'mcloudyday'}, {'datetime': '2021-11-16 10:00', 'temp2m': 28, 'weather': 'cloudyday'}, {'datetime': '2021-11-16 13:00', 'temp2m': 29, 'weather': 'lightrainday'}, {'datetime': '2021-11-16 16:00', 'temp2m': 30, 'weather': 'oshowerday'}, {'datetime': '2021-11-16 19:00', 'temp2m': 27, 'weather': 'lightrainnight'}, {'datetime': '2021-11-16 22:00', 'temp2m': 26, 'weather': 'rainnight'}, {'datetime': '2021-11-17 01:00', 'temp2m': 25, 'weather': 'rainnight'}, {'datetime': '2021-11-17 04:00', 'temp2m': 25, 'weather': 'rainnight'}, {'datetime': '2021-11-17 07:00', 'temp2m': 24, 'weather': 'rainday'}, {'datetime': '2021-11-17 10:00', 'temp2m': 28, 'weather': 'rainday'}, {'datetime': '2021-11-17 13:00', 'temp2m': 30, 'weather': 'rainday'}, {'datetime': '2021-11-17 16:00', 'temp2m': 29, 'weather': 'rainday'}, {'datetime': '2021-11-17 19:00', 'temp2m': 27, 'weather': 'rainnight'}, {'datetime': '2021-11-17 22:00', 'temp2m': 26, 'weather': 'rainnight'}, {'datetime': '2021-11-18 01:00', 'temp2m': 25, 'weather': 'rainnight'}, {'datetime': '2021-11-18 04:00', 'temp2m': 24, 'weather': 'rainnight'}, {'datetime': '2021-11-18 07:00', 'temp2m': 24, 'weather': 'rainday'}, {'datetime': '2021-11-18 10:00', 'temp2m': 29, 'weather': 'rainday'}, {'datetime': '2021-11-18 13:00', 'temp2m': 30, 'weather': 'rainday'}, {'datetime': '2021-11-18 16:00', 'temp2m': 30, 'weather': 'rainday'}, {'datetime': '2021-11-18 19:00', 'temp2m': 27, 'weather': 'rainnight'}, {'datetime': '2021-11-18 22:00', 'temp2m': 26, 'weather': 'rainnight'}, {'datetime': '2021-11-19 01:00', 'temp2m': 25, 'weather': 'rainnight'}, {'datetime': '2021-11-19 04:00', 'temp2m': 25, 'weather': 'cloudynight'}, {'datetime': '2021-11-19 07:00', 'temp2m': 24, 'weather': 'cloudyday'}, {'datetime': '2021-11-19 10:00', 'temp2m': 28, 'weather': 'rainday'}, {'datetime': '2021-11-19 13:00', 'temp2m': 31, 'weather': 'rainday'}, {'datetime': '2021-11-19 16:00', 'temp2m': 30, 'weather': 'rainday'}, {'datetime': '2021-11-19 19:00', 'temp2m': 28, 'weather': 'rainnight'}, {'datetime': '2021-11-19 22:00', 'temp2m': 26, 'weather': 'rainnight'}, {'datetime': '2021-11-20 01:00', 'temp2m': 25, 'weather': 'rainnight'}]\n",
            "district \n",
            "subdistrict \n",
            "http://www.7timer.info/bin/api.pl?lon=101.36441&lat=14.56899&product=civil&output=json\n"
          ]
        },
        {
          "name": "stderr",
          "output_type": "stream",
          "text": [
            "127.0.0.1 - - [12/Nov/2021 04:43:37] \"\u001b[37mGET /getweather?district=&subdistrict= HTTP/1.1\u001b[0m\" 200 -\n"
          ]
        },
        {
          "name": "stdout",
          "output_type": "stream",
          "text": [
            "[{'datetime': '2021-11-12 04:00', 'temp2m': 20, 'weather': 'cloudynight'}, {'datetime': '2021-11-12 07:00', 'temp2m': 20, 'weather': 'cloudyday'}, {'datetime': '2021-11-12 10:00', 'temp2m': 22, 'weather': 'cloudyday'}, {'datetime': '2021-11-12 13:00', 'temp2m': 23, 'weather': 'cloudyday'}, {'datetime': '2021-11-12 16:00', 'temp2m': 23, 'weather': 'cloudyday'}, {'datetime': '2021-11-12 19:00', 'temp2m': 22, 'weather': 'cloudynight'}, {'datetime': '2021-11-12 22:00', 'temp2m': 22, 'weather': 'cloudynight'}, {'datetime': '2021-11-13 01:00', 'temp2m': 18, 'weather': 'mcloudynight'}, {'datetime': '2021-11-13 04:00', 'temp2m': 17, 'weather': 'cloudynight'}, {'datetime': '2021-11-13 07:00', 'temp2m': 17, 'weather': 'cloudyday'}, {'datetime': '2021-11-13 10:00', 'temp2m': 20, 'weather': 'cloudyday'}, {'datetime': '2021-11-13 13:00', 'temp2m': 21, 'weather': 'cloudyday'}, {'datetime': '2021-11-13 16:00', 'temp2m': 22, 'weather': 'lightrainday'}, {'datetime': '2021-11-13 19:00', 'temp2m': 22, 'weather': 'lightrainnight'}, {'datetime': '2021-11-13 22:00', 'temp2m': 20, 'weather': 'cloudynight'}, {'datetime': '2021-11-14 01:00', 'temp2m': 18, 'weather': 'cloudynight'}, {'datetime': '2021-11-14 04:00', 'temp2m': 17, 'weather': 'cloudynight'}, {'datetime': '2021-11-14 07:00', 'temp2m': 17, 'weather': 'lightrainday'}, {'datetime': '2021-11-14 10:00', 'temp2m': 18, 'weather': 'lightrainday'}, {'datetime': '2021-11-14 13:00', 'temp2m': 21, 'weather': 'lightrainday'}, {'datetime': '2021-11-14 16:00', 'temp2m': 21, 'weather': 'cloudyday'}, {'datetime': '2021-11-14 19:00', 'temp2m': 20, 'weather': 'cloudynight'}, {'datetime': '2021-11-14 22:00', 'temp2m': 20, 'weather': 'cloudynight'}, {'datetime': '2021-11-15 01:00', 'temp2m': 18, 'weather': 'cloudynight'}, {'datetime': '2021-11-15 04:00', 'temp2m': 17, 'weather': 'cloudynight'}, {'datetime': '2021-11-15 07:00', 'temp2m': 17, 'weather': 'cloudyday'}, {'datetime': '2021-11-15 10:00', 'temp2m': 21, 'weather': 'cloudyday'}, {'datetime': '2021-11-15 13:00', 'temp2m': 24, 'weather': 'cloudyday'}, {'datetime': '2021-11-15 16:00', 'temp2m': 24, 'weather': 'lightrainday'}, {'datetime': '2021-11-15 19:00', 'temp2m': 21, 'weather': 'lightrainnight'}, {'datetime': '2021-11-15 22:00', 'temp2m': 21, 'weather': 'lightrainnight'}, {'datetime': '2021-11-16 01:00', 'temp2m': 20, 'weather': 'lightrainnight'}, {'datetime': '2021-11-16 04:00', 'temp2m': 20, 'weather': 'cloudynight'}, {'datetime': '2021-11-16 07:00', 'temp2m': 20, 'weather': 'cloudyday'}, {'datetime': '2021-11-16 10:00', 'temp2m': 23, 'weather': 'cloudyday'}, {'datetime': '2021-11-16 13:00', 'temp2m': 24, 'weather': 'lightrainday'}, {'datetime': '2021-11-16 16:00', 'temp2m': 25, 'weather': 'lightrainday'}, {'datetime': '2021-11-16 19:00', 'temp2m': 22, 'weather': 'oshowernight'}, {'datetime': '2021-11-16 22:00', 'temp2m': 23, 'weather': 'lightrainnight'}, {'datetime': '2021-11-17 01:00', 'temp2m': 21, 'weather': 'lightrainnight'}, {'datetime': '2021-11-17 04:00', 'temp2m': 21, 'weather': 'lightrainnight'}, {'datetime': '2021-11-17 07:00', 'temp2m': 21, 'weather': 'lightrainday'}, {'datetime': '2021-11-17 10:00', 'temp2m': 24, 'weather': 'lightrainday'}, {'datetime': '2021-11-17 13:00', 'temp2m': 25, 'weather': 'lightrainday'}, {'datetime': '2021-11-17 16:00', 'temp2m': 25, 'weather': 'lightrainday'}, {'datetime': '2021-11-17 19:00', 'temp2m': 22, 'weather': 'lightrainnight'}, {'datetime': '2021-11-17 22:00', 'temp2m': 22, 'weather': 'lightrainnight'}, {'datetime': '2021-11-18 01:00', 'temp2m': 21, 'weather': 'oshowernight'}, {'datetime': '2021-11-18 04:00', 'temp2m': 21, 'weather': 'lightrainnight'}, {'datetime': '2021-11-18 07:00', 'temp2m': 20, 'weather': 'lightrainday'}, {'datetime': '2021-11-18 10:00', 'temp2m': 21, 'weather': 'lightrainday'}, {'datetime': '2021-11-18 13:00', 'temp2m': 22, 'weather': 'lightrainday'}, {'datetime': '2021-11-18 16:00', 'temp2m': 23, 'weather': 'lightrainday'}, {'datetime': '2021-11-18 19:00', 'temp2m': 22, 'weather': 'lightrainnight'}, {'datetime': '2021-11-18 22:00', 'temp2m': 23, 'weather': 'cloudynight'}, {'datetime': '2021-11-19 01:00', 'temp2m': 21, 'weather': 'cloudynight'}, {'datetime': '2021-11-19 04:00', 'temp2m': 18, 'weather': 'cloudynight'}, {'datetime': '2021-11-19 07:00', 'temp2m': 18, 'weather': 'cloudyday'}, {'datetime': '2021-11-19 10:00', 'temp2m': 23, 'weather': 'mcloudyday'}, {'datetime': '2021-11-19 13:00', 'temp2m': 26, 'weather': 'lightrainday'}, {'datetime': '2021-11-19 16:00', 'temp2m': 26, 'weather': 'lightrainday'}, {'datetime': '2021-11-19 19:00', 'temp2m': 23, 'weather': 'lightrainnight'}, {'datetime': '2021-11-19 22:00', 'temp2m': 21, 'weather': 'ishowernight'}, {'datetime': '2021-11-20 01:00', 'temp2m': 21, 'weather': 'ishowernight'}]\n",
            "district \n",
            "subdistrict \n",
            "http://www.7timer.info/bin/api.pl?lon=101.36441&lat=14.56899&product=civil&output=json\n"
          ]
        },
        {
          "name": "stderr",
          "output_type": "stream",
          "text": [
            "127.0.0.1 - - [12/Nov/2021 04:43:51] \"\u001b[37mGET /getweather?district=&subdistrict= HTTP/1.1\u001b[0m\" 200 -\n"
          ]
        },
        {
          "name": "stdout",
          "output_type": "stream",
          "text": [
            "[{'datetime': '2021-11-12 04:00', 'temp2m': 20, 'weather': 'cloudynight'}, {'datetime': '2021-11-12 07:00', 'temp2m': 20, 'weather': 'cloudyday'}, {'datetime': '2021-11-12 10:00', 'temp2m': 22, 'weather': 'cloudyday'}, {'datetime': '2021-11-12 13:00', 'temp2m': 23, 'weather': 'cloudyday'}, {'datetime': '2021-11-12 16:00', 'temp2m': 23, 'weather': 'cloudyday'}, {'datetime': '2021-11-12 19:00', 'temp2m': 22, 'weather': 'cloudynight'}, {'datetime': '2021-11-12 22:00', 'temp2m': 22, 'weather': 'cloudynight'}, {'datetime': '2021-11-13 01:00', 'temp2m': 18, 'weather': 'mcloudynight'}, {'datetime': '2021-11-13 04:00', 'temp2m': 17, 'weather': 'cloudynight'}, {'datetime': '2021-11-13 07:00', 'temp2m': 17, 'weather': 'cloudyday'}, {'datetime': '2021-11-13 10:00', 'temp2m': 20, 'weather': 'cloudyday'}, {'datetime': '2021-11-13 13:00', 'temp2m': 21, 'weather': 'cloudyday'}, {'datetime': '2021-11-13 16:00', 'temp2m': 22, 'weather': 'lightrainday'}, {'datetime': '2021-11-13 19:00', 'temp2m': 22, 'weather': 'lightrainnight'}, {'datetime': '2021-11-13 22:00', 'temp2m': 20, 'weather': 'cloudynight'}, {'datetime': '2021-11-14 01:00', 'temp2m': 18, 'weather': 'cloudynight'}, {'datetime': '2021-11-14 04:00', 'temp2m': 17, 'weather': 'cloudynight'}, {'datetime': '2021-11-14 07:00', 'temp2m': 17, 'weather': 'lightrainday'}, {'datetime': '2021-11-14 10:00', 'temp2m': 18, 'weather': 'lightrainday'}, {'datetime': '2021-11-14 13:00', 'temp2m': 21, 'weather': 'lightrainday'}, {'datetime': '2021-11-14 16:00', 'temp2m': 21, 'weather': 'cloudyday'}, {'datetime': '2021-11-14 19:00', 'temp2m': 20, 'weather': 'cloudynight'}, {'datetime': '2021-11-14 22:00', 'temp2m': 20, 'weather': 'cloudynight'}, {'datetime': '2021-11-15 01:00', 'temp2m': 18, 'weather': 'cloudynight'}, {'datetime': '2021-11-15 04:00', 'temp2m': 17, 'weather': 'cloudynight'}, {'datetime': '2021-11-15 07:00', 'temp2m': 17, 'weather': 'cloudyday'}, {'datetime': '2021-11-15 10:00', 'temp2m': 21, 'weather': 'cloudyday'}, {'datetime': '2021-11-15 13:00', 'temp2m': 24, 'weather': 'cloudyday'}, {'datetime': '2021-11-15 16:00', 'temp2m': 24, 'weather': 'lightrainday'}, {'datetime': '2021-11-15 19:00', 'temp2m': 21, 'weather': 'lightrainnight'}, {'datetime': '2021-11-15 22:00', 'temp2m': 21, 'weather': 'lightrainnight'}, {'datetime': '2021-11-16 01:00', 'temp2m': 20, 'weather': 'lightrainnight'}, {'datetime': '2021-11-16 04:00', 'temp2m': 20, 'weather': 'cloudynight'}, {'datetime': '2021-11-16 07:00', 'temp2m': 20, 'weather': 'cloudyday'}, {'datetime': '2021-11-16 10:00', 'temp2m': 23, 'weather': 'cloudyday'}, {'datetime': '2021-11-16 13:00', 'temp2m': 24, 'weather': 'lightrainday'}, {'datetime': '2021-11-16 16:00', 'temp2m': 25, 'weather': 'lightrainday'}, {'datetime': '2021-11-16 19:00', 'temp2m': 22, 'weather': 'oshowernight'}, {'datetime': '2021-11-16 22:00', 'temp2m': 23, 'weather': 'lightrainnight'}, {'datetime': '2021-11-17 01:00', 'temp2m': 21, 'weather': 'lightrainnight'}, {'datetime': '2021-11-17 04:00', 'temp2m': 21, 'weather': 'lightrainnight'}, {'datetime': '2021-11-17 07:00', 'temp2m': 21, 'weather': 'lightrainday'}, {'datetime': '2021-11-17 10:00', 'temp2m': 24, 'weather': 'lightrainday'}, {'datetime': '2021-11-17 13:00', 'temp2m': 25, 'weather': 'lightrainday'}, {'datetime': '2021-11-17 16:00', 'temp2m': 25, 'weather': 'lightrainday'}, {'datetime': '2021-11-17 19:00', 'temp2m': 22, 'weather': 'lightrainnight'}, {'datetime': '2021-11-17 22:00', 'temp2m': 22, 'weather': 'lightrainnight'}, {'datetime': '2021-11-18 01:00', 'temp2m': 21, 'weather': 'oshowernight'}, {'datetime': '2021-11-18 04:00', 'temp2m': 21, 'weather': 'lightrainnight'}, {'datetime': '2021-11-18 07:00', 'temp2m': 20, 'weather': 'lightrainday'}, {'datetime': '2021-11-18 10:00', 'temp2m': 21, 'weather': 'lightrainday'}, {'datetime': '2021-11-18 13:00', 'temp2m': 22, 'weather': 'lightrainday'}, {'datetime': '2021-11-18 16:00', 'temp2m': 23, 'weather': 'lightrainday'}, {'datetime': '2021-11-18 19:00', 'temp2m': 22, 'weather': 'lightrainnight'}, {'datetime': '2021-11-18 22:00', 'temp2m': 23, 'weather': 'cloudynight'}, {'datetime': '2021-11-19 01:00', 'temp2m': 21, 'weather': 'cloudynight'}, {'datetime': '2021-11-19 04:00', 'temp2m': 18, 'weather': 'cloudynight'}, {'datetime': '2021-11-19 07:00', 'temp2m': 18, 'weather': 'cloudyday'}, {'datetime': '2021-11-19 10:00', 'temp2m': 23, 'weather': 'mcloudyday'}, {'datetime': '2021-11-19 13:00', 'temp2m': 26, 'weather': 'lightrainday'}, {'datetime': '2021-11-19 16:00', 'temp2m': 26, 'weather': 'lightrainday'}, {'datetime': '2021-11-19 19:00', 'temp2m': 23, 'weather': 'lightrainnight'}, {'datetime': '2021-11-19 22:00', 'temp2m': 21, 'weather': 'ishowernight'}, {'datetime': '2021-11-20 01:00', 'temp2m': 21, 'weather': 'ishowernight'}]\n",
            "district ปทุมวัน\n",
            "subdistrict \n",
            "http://www.7timer.info/bin/api.pl?lon=100.53175&lat=13.7405&product=civil&output=json\n"
          ]
        },
        {
          "name": "stderr",
          "output_type": "stream",
          "text": [
            "127.0.0.1 - - [12/Nov/2021 04:44:06] \"\u001b[37mGET /getweather?district=ปทุมวัน&subdistrict= HTTP/1.1\u001b[0m\" 200 -\n"
          ]
        },
        {
          "name": "stdout",
          "output_type": "stream",
          "text": [
            "[{'datetime': '2021-11-12 04:00', 'temp2m': 24, 'weather': 'lightrainnight'}, {'datetime': '2021-11-12 07:00', 'temp2m': 24, 'weather': 'lightrainday'}, {'datetime': '2021-11-12 10:00', 'temp2m': 26, 'weather': 'cloudyday'}, {'datetime': '2021-11-12 13:00', 'temp2m': 30, 'weather': 'mcloudyday'}, {'datetime': '2021-11-12 16:00', 'temp2m': 29, 'weather': 'lightrainday'}, {'datetime': '2021-11-12 19:00', 'temp2m': 26, 'weather': 'lightrainnight'}, {'datetime': '2021-11-12 22:00', 'temp2m': 26, 'weather': 'lightrainnight'}, {'datetime': '2021-11-13 01:00', 'temp2m': 25, 'weather': 'oshowernight'}, {'datetime': '2021-11-13 04:00', 'temp2m': 24, 'weather': 'lightrainnight'}, {'datetime': '2021-11-13 07:00', 'temp2m': 24, 'weather': 'lightrainday'}, {'datetime': '2021-11-13 10:00', 'temp2m': 27, 'weather': 'cloudyday'}, {'datetime': '2021-11-13 13:00', 'temp2m': 28, 'weather': 'lightrainday'}, {'datetime': '2021-11-13 16:00', 'temp2m': 28, 'weather': 'oshowerday'}, {'datetime': '2021-11-13 19:00', 'temp2m': 26, 'weather': 'lightrainnight'}, {'datetime': '2021-11-13 22:00', 'temp2m': 25, 'weather': 'lightrainnight'}, {'datetime': '2021-11-14 01:00', 'temp2m': 24, 'weather': 'lightrainnight'}, {'datetime': '2021-11-14 04:00', 'temp2m': 23, 'weather': 'lightrainnight'}, {'datetime': '2021-11-14 07:00', 'temp2m': 23, 'weather': 'lightrainday'}, {'datetime': '2021-11-14 10:00', 'temp2m': 24, 'weather': 'lightrainday'}, {'datetime': '2021-11-14 13:00', 'temp2m': 25, 'weather': 'lightrainday'}, {'datetime': '2021-11-14 16:00', 'temp2m': 26, 'weather': 'lightrainday'}, {'datetime': '2021-11-14 19:00', 'temp2m': 24, 'weather': 'lightrainnight'}, {'datetime': '2021-11-14 22:00', 'temp2m': 23, 'weather': 'lightrainnight'}, {'datetime': '2021-11-15 01:00', 'temp2m': 23, 'weather': 'oshowernight'}, {'datetime': '2021-11-15 04:00', 'temp2m': 22, 'weather': 'pcloudynight'}, {'datetime': '2021-11-15 07:00', 'temp2m': 22, 'weather': 'mcloudyday'}, {'datetime': '2021-11-15 10:00', 'temp2m': 27, 'weather': 'mcloudyday'}, {'datetime': '2021-11-15 13:00', 'temp2m': 29, 'weather': 'lightrainday'}, {'datetime': '2021-11-15 16:00', 'temp2m': 29, 'weather': 'lightrainday'}, {'datetime': '2021-11-15 19:00', 'temp2m': 26, 'weather': 'lightrainnight'}, {'datetime': '2021-11-15 22:00', 'temp2m': 25, 'weather': 'lightrainnight'}, {'datetime': '2021-11-16 01:00', 'temp2m': 24, 'weather': 'lightrainnight'}, {'datetime': '2021-11-16 04:00', 'temp2m': 24, 'weather': 'lightrainnight'}, {'datetime': '2021-11-16 07:00', 'temp2m': 24, 'weather': 'lightrainday'}, {'datetime': '2021-11-16 10:00', 'temp2m': 28, 'weather': 'lightrainday'}, {'datetime': '2021-11-16 13:00', 'temp2m': 30, 'weather': 'lightrainday'}, {'datetime': '2021-11-16 16:00', 'temp2m': 30, 'weather': 'oshowerday'}, {'datetime': '2021-11-16 19:00', 'temp2m': 27, 'weather': 'rainnight'}, {'datetime': '2021-11-16 22:00', 'temp2m': 26, 'weather': 'rainnight'}, {'datetime': '2021-11-17 01:00', 'temp2m': 25, 'weather': 'rainnight'}, {'datetime': '2021-11-17 04:00', 'temp2m': 24, 'weather': 'rainnight'}, {'datetime': '2021-11-17 07:00', 'temp2m': 24, 'weather': 'rainday'}, {'datetime': '2021-11-17 10:00', 'temp2m': 28, 'weather': 'rainday'}, {'datetime': '2021-11-17 13:00', 'temp2m': 30, 'weather': 'rainday'}, {'datetime': '2021-11-17 16:00', 'temp2m': 30, 'weather': 'rainday'}, {'datetime': '2021-11-17 19:00', 'temp2m': 27, 'weather': 'rainnight'}, {'datetime': '2021-11-17 22:00', 'temp2m': 26, 'weather': 'rainnight'}, {'datetime': '2021-11-18 01:00', 'temp2m': 25, 'weather': 'rainnight'}, {'datetime': '2021-11-18 04:00', 'temp2m': 24, 'weather': 'rainnight'}, {'datetime': '2021-11-18 07:00', 'temp2m': 24, 'weather': 'rainday'}, {'datetime': '2021-11-18 10:00', 'temp2m': 28, 'weather': 'rainday'}, {'datetime': '2021-11-18 13:00', 'temp2m': 30, 'weather': 'rainday'}, {'datetime': '2021-11-18 16:00', 'temp2m': 30, 'weather': 'rainday'}, {'datetime': '2021-11-18 19:00', 'temp2m': 26, 'weather': 'rainnight'}, {'datetime': '2021-11-18 22:00', 'temp2m': 25, 'weather': 'rainnight'}, {'datetime': '2021-11-19 01:00', 'temp2m': 25, 'weather': 'rainnight'}, {'datetime': '2021-11-19 04:00', 'temp2m': 24, 'weather': 'rainnight'}, {'datetime': '2021-11-19 07:00', 'temp2m': 24, 'weather': 'rainday'}, {'datetime': '2021-11-19 10:00', 'temp2m': 27, 'weather': 'rainday'}, {'datetime': '2021-11-19 13:00', 'temp2m': 31, 'weather': 'rainday'}, {'datetime': '2021-11-19 16:00', 'temp2m': 30, 'weather': 'rainday'}, {'datetime': '2021-11-19 19:00', 'temp2m': 27, 'weather': 'rainnight'}, {'datetime': '2021-11-19 22:00', 'temp2m': 27, 'weather': 'rainnight'}, {'datetime': '2021-11-20 01:00', 'temp2m': 25, 'weather': 'rainnight'}]\n",
            "district ปทุมวัน\n",
            "subdistrict undefined\n",
            "http://www.7timer.info/bin/api.pl?lon=100.53175&lat=13.7405&product=civil&output=json\n"
          ]
        },
        {
          "name": "stderr",
          "output_type": "stream",
          "text": [
            "127.0.0.1 - - [12/Nov/2021 04:49:45] \"\u001b[37mGET /getweather?district=ปทุมวัน&subdistrict=undefined HTTP/1.1\u001b[0m\" 200 -\n"
          ]
        },
        {
          "name": "stdout",
          "output_type": "stream",
          "text": [
            "[{'datetime': '2021-11-12 04:00', 'temp2m': 24, 'weather': 'lightrainnight'}, {'datetime': '2021-11-12 07:00', 'temp2m': 24, 'weather': 'lightrainday'}, {'datetime': '2021-11-12 10:00', 'temp2m': 26, 'weather': 'cloudyday'}, {'datetime': '2021-11-12 13:00', 'temp2m': 30, 'weather': 'mcloudyday'}, {'datetime': '2021-11-12 16:00', 'temp2m': 29, 'weather': 'lightrainday'}, {'datetime': '2021-11-12 19:00', 'temp2m': 26, 'weather': 'lightrainnight'}, {'datetime': '2021-11-12 22:00', 'temp2m': 26, 'weather': 'lightrainnight'}, {'datetime': '2021-11-13 01:00', 'temp2m': 25, 'weather': 'oshowernight'}, {'datetime': '2021-11-13 04:00', 'temp2m': 24, 'weather': 'lightrainnight'}, {'datetime': '2021-11-13 07:00', 'temp2m': 24, 'weather': 'lightrainday'}, {'datetime': '2021-11-13 10:00', 'temp2m': 27, 'weather': 'cloudyday'}, {'datetime': '2021-11-13 13:00', 'temp2m': 28, 'weather': 'lightrainday'}, {'datetime': '2021-11-13 16:00', 'temp2m': 28, 'weather': 'oshowerday'}, {'datetime': '2021-11-13 19:00', 'temp2m': 26, 'weather': 'lightrainnight'}, {'datetime': '2021-11-13 22:00', 'temp2m': 25, 'weather': 'lightrainnight'}, {'datetime': '2021-11-14 01:00', 'temp2m': 24, 'weather': 'lightrainnight'}, {'datetime': '2021-11-14 04:00', 'temp2m': 23, 'weather': 'lightrainnight'}, {'datetime': '2021-11-14 07:00', 'temp2m': 23, 'weather': 'lightrainday'}, {'datetime': '2021-11-14 10:00', 'temp2m': 24, 'weather': 'lightrainday'}, {'datetime': '2021-11-14 13:00', 'temp2m': 25, 'weather': 'lightrainday'}, {'datetime': '2021-11-14 16:00', 'temp2m': 26, 'weather': 'lightrainday'}, {'datetime': '2021-11-14 19:00', 'temp2m': 24, 'weather': 'lightrainnight'}, {'datetime': '2021-11-14 22:00', 'temp2m': 23, 'weather': 'lightrainnight'}, {'datetime': '2021-11-15 01:00', 'temp2m': 23, 'weather': 'oshowernight'}, {'datetime': '2021-11-15 04:00', 'temp2m': 22, 'weather': 'pcloudynight'}, {'datetime': '2021-11-15 07:00', 'temp2m': 22, 'weather': 'mcloudyday'}, {'datetime': '2021-11-15 10:00', 'temp2m': 27, 'weather': 'mcloudyday'}, {'datetime': '2021-11-15 13:00', 'temp2m': 29, 'weather': 'lightrainday'}, {'datetime': '2021-11-15 16:00', 'temp2m': 29, 'weather': 'lightrainday'}, {'datetime': '2021-11-15 19:00', 'temp2m': 26, 'weather': 'lightrainnight'}, {'datetime': '2021-11-15 22:00', 'temp2m': 25, 'weather': 'lightrainnight'}, {'datetime': '2021-11-16 01:00', 'temp2m': 24, 'weather': 'lightrainnight'}, {'datetime': '2021-11-16 04:00', 'temp2m': 24, 'weather': 'lightrainnight'}, {'datetime': '2021-11-16 07:00', 'temp2m': 24, 'weather': 'lightrainday'}, {'datetime': '2021-11-16 10:00', 'temp2m': 28, 'weather': 'lightrainday'}, {'datetime': '2021-11-16 13:00', 'temp2m': 30, 'weather': 'lightrainday'}, {'datetime': '2021-11-16 16:00', 'temp2m': 30, 'weather': 'oshowerday'}, {'datetime': '2021-11-16 19:00', 'temp2m': 27, 'weather': 'rainnight'}, {'datetime': '2021-11-16 22:00', 'temp2m': 26, 'weather': 'rainnight'}, {'datetime': '2021-11-17 01:00', 'temp2m': 25, 'weather': 'rainnight'}, {'datetime': '2021-11-17 04:00', 'temp2m': 24, 'weather': 'rainnight'}, {'datetime': '2021-11-17 07:00', 'temp2m': 24, 'weather': 'rainday'}, {'datetime': '2021-11-17 10:00', 'temp2m': 28, 'weather': 'rainday'}, {'datetime': '2021-11-17 13:00', 'temp2m': 30, 'weather': 'rainday'}, {'datetime': '2021-11-17 16:00', 'temp2m': 30, 'weather': 'rainday'}, {'datetime': '2021-11-17 19:00', 'temp2m': 27, 'weather': 'rainnight'}, {'datetime': '2021-11-17 22:00', 'temp2m': 26, 'weather': 'rainnight'}, {'datetime': '2021-11-18 01:00', 'temp2m': 25, 'weather': 'rainnight'}, {'datetime': '2021-11-18 04:00', 'temp2m': 24, 'weather': 'rainnight'}, {'datetime': '2021-11-18 07:00', 'temp2m': 24, 'weather': 'rainday'}, {'datetime': '2021-11-18 10:00', 'temp2m': 28, 'weather': 'rainday'}, {'datetime': '2021-11-18 13:00', 'temp2m': 30, 'weather': 'rainday'}, {'datetime': '2021-11-18 16:00', 'temp2m': 30, 'weather': 'rainday'}, {'datetime': '2021-11-18 19:00', 'temp2m': 26, 'weather': 'rainnight'}, {'datetime': '2021-11-18 22:00', 'temp2m': 25, 'weather': 'rainnight'}, {'datetime': '2021-11-19 01:00', 'temp2m': 25, 'weather': 'rainnight'}, {'datetime': '2021-11-19 04:00', 'temp2m': 24, 'weather': 'rainnight'}, {'datetime': '2021-11-19 07:00', 'temp2m': 24, 'weather': 'rainday'}, {'datetime': '2021-11-19 10:00', 'temp2m': 27, 'weather': 'rainday'}, {'datetime': '2021-11-19 13:00', 'temp2m': 31, 'weather': 'rainday'}, {'datetime': '2021-11-19 16:00', 'temp2m': 30, 'weather': 'rainday'}, {'datetime': '2021-11-19 19:00', 'temp2m': 27, 'weather': 'rainnight'}, {'datetime': '2021-11-19 22:00', 'temp2m': 27, 'weather': 'rainnight'}, {'datetime': '2021-11-20 01:00', 'temp2m': 25, 'weather': 'rainnight'}]\n",
            "district ปทุมวัน\n",
            "subdistrict วังใหม่\n",
            "http://www.7timer.info/bin/api.pl?lon=100.526&lat=13.742&product=civil&output=json\n"
          ]
        },
        {
          "name": "stderr",
          "output_type": "stream",
          "text": [
            "127.0.0.1 - - [12/Nov/2021 04:50:10] \"\u001b[37mGET /getweather?district=ปทุมวัน&subdistrict=วังใหม่ HTTP/1.1\u001b[0m\" 200 -\n"
          ]
        },
        {
          "name": "stdout",
          "output_type": "stream",
          "text": [
            "[{'datetime': '2021-11-12 04:00', 'temp2m': 24, 'weather': 'lightrainnight'}, {'datetime': '2021-11-12 07:00', 'temp2m': 24, 'weather': 'lightrainday'}, {'datetime': '2021-11-12 10:00', 'temp2m': 26, 'weather': 'cloudyday'}, {'datetime': '2021-11-12 13:00', 'temp2m': 30, 'weather': 'mcloudyday'}, {'datetime': '2021-11-12 16:00', 'temp2m': 29, 'weather': 'lightrainday'}, {'datetime': '2021-11-12 19:00', 'temp2m': 26, 'weather': 'lightrainnight'}, {'datetime': '2021-11-12 22:00', 'temp2m': 26, 'weather': 'lightrainnight'}, {'datetime': '2021-11-13 01:00', 'temp2m': 25, 'weather': 'oshowernight'}, {'datetime': '2021-11-13 04:00', 'temp2m': 24, 'weather': 'lightrainnight'}, {'datetime': '2021-11-13 07:00', 'temp2m': 24, 'weather': 'lightrainday'}, {'datetime': '2021-11-13 10:00', 'temp2m': 27, 'weather': 'cloudyday'}, {'datetime': '2021-11-13 13:00', 'temp2m': 28, 'weather': 'lightrainday'}, {'datetime': '2021-11-13 16:00', 'temp2m': 28, 'weather': 'oshowerday'}, {'datetime': '2021-11-13 19:00', 'temp2m': 26, 'weather': 'lightrainnight'}, {'datetime': '2021-11-13 22:00', 'temp2m': 25, 'weather': 'lightrainnight'}, {'datetime': '2021-11-14 01:00', 'temp2m': 24, 'weather': 'lightrainnight'}, {'datetime': '2021-11-14 04:00', 'temp2m': 23, 'weather': 'lightrainnight'}, {'datetime': '2021-11-14 07:00', 'temp2m': 23, 'weather': 'lightrainday'}, {'datetime': '2021-11-14 10:00', 'temp2m': 24, 'weather': 'lightrainday'}, {'datetime': '2021-11-14 13:00', 'temp2m': 25, 'weather': 'lightrainday'}, {'datetime': '2021-11-14 16:00', 'temp2m': 26, 'weather': 'lightrainday'}, {'datetime': '2021-11-14 19:00', 'temp2m': 24, 'weather': 'lightrainnight'}, {'datetime': '2021-11-14 22:00', 'temp2m': 23, 'weather': 'lightrainnight'}, {'datetime': '2021-11-15 01:00', 'temp2m': 23, 'weather': 'oshowernight'}, {'datetime': '2021-11-15 04:00', 'temp2m': 22, 'weather': 'pcloudynight'}, {'datetime': '2021-11-15 07:00', 'temp2m': 22, 'weather': 'mcloudyday'}, {'datetime': '2021-11-15 10:00', 'temp2m': 27, 'weather': 'mcloudyday'}, {'datetime': '2021-11-15 13:00', 'temp2m': 29, 'weather': 'lightrainday'}, {'datetime': '2021-11-15 16:00', 'temp2m': 29, 'weather': 'lightrainday'}, {'datetime': '2021-11-15 19:00', 'temp2m': 26, 'weather': 'lightrainnight'}, {'datetime': '2021-11-15 22:00', 'temp2m': 25, 'weather': 'lightrainnight'}, {'datetime': '2021-11-16 01:00', 'temp2m': 24, 'weather': 'lightrainnight'}, {'datetime': '2021-11-16 04:00', 'temp2m': 24, 'weather': 'lightrainnight'}, {'datetime': '2021-11-16 07:00', 'temp2m': 24, 'weather': 'lightrainday'}, {'datetime': '2021-11-16 10:00', 'temp2m': 28, 'weather': 'lightrainday'}, {'datetime': '2021-11-16 13:00', 'temp2m': 30, 'weather': 'lightrainday'}, {'datetime': '2021-11-16 16:00', 'temp2m': 30, 'weather': 'oshowerday'}, {'datetime': '2021-11-16 19:00', 'temp2m': 27, 'weather': 'rainnight'}, {'datetime': '2021-11-16 22:00', 'temp2m': 26, 'weather': 'rainnight'}, {'datetime': '2021-11-17 01:00', 'temp2m': 25, 'weather': 'rainnight'}, {'datetime': '2021-11-17 04:00', 'temp2m': 24, 'weather': 'rainnight'}, {'datetime': '2021-11-17 07:00', 'temp2m': 24, 'weather': 'rainday'}, {'datetime': '2021-11-17 10:00', 'temp2m': 28, 'weather': 'rainday'}, {'datetime': '2021-11-17 13:00', 'temp2m': 30, 'weather': 'rainday'}, {'datetime': '2021-11-17 16:00', 'temp2m': 30, 'weather': 'rainday'}, {'datetime': '2021-11-17 19:00', 'temp2m': 27, 'weather': 'rainnight'}, {'datetime': '2021-11-17 22:00', 'temp2m': 26, 'weather': 'rainnight'}, {'datetime': '2021-11-18 01:00', 'temp2m': 25, 'weather': 'rainnight'}, {'datetime': '2021-11-18 04:00', 'temp2m': 24, 'weather': 'rainnight'}, {'datetime': '2021-11-18 07:00', 'temp2m': 24, 'weather': 'rainday'}, {'datetime': '2021-11-18 10:00', 'temp2m': 28, 'weather': 'rainday'}, {'datetime': '2021-11-18 13:00', 'temp2m': 30, 'weather': 'rainday'}, {'datetime': '2021-11-18 16:00', 'temp2m': 30, 'weather': 'rainday'}, {'datetime': '2021-11-18 19:00', 'temp2m': 26, 'weather': 'rainnight'}, {'datetime': '2021-11-18 22:00', 'temp2m': 25, 'weather': 'rainnight'}, {'datetime': '2021-11-19 01:00', 'temp2m': 25, 'weather': 'rainnight'}, {'datetime': '2021-11-19 04:00', 'temp2m': 24, 'weather': 'rainnight'}, {'datetime': '2021-11-19 07:00', 'temp2m': 24, 'weather': 'rainday'}, {'datetime': '2021-11-19 10:00', 'temp2m': 27, 'weather': 'rainday'}, {'datetime': '2021-11-19 13:00', 'temp2m': 31, 'weather': 'rainday'}, {'datetime': '2021-11-19 16:00', 'temp2m': 30, 'weather': 'rainday'}, {'datetime': '2021-11-19 19:00', 'temp2m': 27, 'weather': 'rainnight'}, {'datetime': '2021-11-19 22:00', 'temp2m': 27, 'weather': 'rainnight'}, {'datetime': '2021-11-20 01:00', 'temp2m': 25, 'weather': 'rainnight'}]\n"
          ]
        }
      ],
      "source": [
        "from flask import Flask,request,flash, request, redirect, url_for, Response,jsonify\n",
        "from flask_ngrok import run_with_ngrok\n",
        "from flask_cors import CORS, cross_origin\n",
        "import pymongo\n",
        "import json\n",
        "import os\n",
        "import pandas as pd \n",
        "import requests\n",
        "import json \n",
        "from datetime import datetime,timedelta\n",
        "\n",
        "df=pd.read_csv('zip_code_lat_lon.csv')\n",
        "app = Flask(__name__)\n",
        "CORS(app, support_credentials=True)\n",
        "run_with_ngrok(app)\n",
        "\n",
        "@app.route('/getweather')\n",
        "def get_weather():\n",
        "  district=request.args.get(\"district\")\n",
        "  subdistrict=request.args.get(\"subdistrict\")\n",
        "  print('district',district)\n",
        "  print('subdistrict',subdistrict)\n",
        "  if subdistrict != 'undefined' and subdistrict.strip()!='':\n",
        "    filtered_df=df[df['subdistrict']==subdistrict]\n",
        "  else:\n",
        "    filtered_df=df\n",
        "  if district != 'undefined' and district.strip()!='':\n",
        "    filtered_df=filtered_df[filtered_df['district']==district]\n",
        "  if filtered_df.shape[0] == 0:\n",
        "    return jsonify({'district':'','subdistrict':'','data':[]})\n",
        "  lat,lon=round(filtered_df['latitude'].mean(),5),round(filtered_df['longitude'].mean(),5)\n",
        "  url='http://www.7timer.info/bin/api.pl?lon={}&lat={}&product=civil&output=json'.format(lon,lat)\n",
        "  print(url)\n",
        "  ret = requests.get(url)\n",
        "  data = ret.json()\n",
        "  temp = [{'datetime':datetime.strftime(datetime.strptime(data['init'],'%Y%m%d%H')+timedelta(hours=7)+timedelta(hours=d['timepoint']),'%Y-%m-%d %H:00'),'temp2m':d['temp2m'],'weather':d['weather']}\n",
        "          for d in data['dataseries']]\n",
        "  print(temp)\n",
        "  return jsonify({'district':district,'subdistrict':subdistrict,'data':temp})\n",
        "\n",
        "app.run()"
      ]
    },
    {
      "cell_type": "code",
      "execution_count": null,
      "metadata": {
        "id": "9vfWQuo6bluc"
      },
      "outputs": [],
      "source": []
    }
  ],
  "metadata": {
    "colab": {
      "provenance": [],
      "include_colab_link": true
    },
    "kernelspec": {
      "display_name": "Python 3",
      "name": "python3"
    },
    "language_info": {
      "name": "python"
    }
  },
  "nbformat": 4,
  "nbformat_minor": 0
}