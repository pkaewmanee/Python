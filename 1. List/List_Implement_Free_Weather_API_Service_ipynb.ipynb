{
  "nbformat": 4,
  "nbformat_minor": 0,
  "metadata": {
    "colab": {
      "provenance": [],
      "authorship_tag": "ABX9TyPL6M8TaTQfUBPo9FiGRhAZ",
      "include_colab_link": true
    },
    "kernelspec": {
      "name": "python3",
      "display_name": "Python 3"
    },
    "language_info": {
      "name": "python"
    }
  },
  "cells": [
    {
      "cell_type": "markdown",
      "metadata": {
        "id": "view-in-github",
        "colab_type": "text"
      },
      "source": [
        "<a href=\"https://colab.research.google.com/github/pkaewmanee/Python/blob/main/List_Implement_Free_Weather_API_Service_ipynb.ipynb\" target=\"_parent\"><img src=\"https://colab.research.google.com/assets/colab-badge.svg\" alt=\"Open In Colab\"/></a>"
      ]
    },
    {
      "cell_type": "markdown",
      "source": [
        "# Implement List and free weather api service \n",
        "\n",
        "Using list to plot rain forecast and temperature chart"
      ],
      "metadata": {
        "id": "S2O93vcGbQMt"
      }
    },
    {
      "cell_type": "code",
      "source": [
        "from urllib.request import urlopen\n",
        "import json\n",
        "\n",
        "url = \"https://www.7timer.info/bin/astro.php?lon=100.52557267761358&lat=13.742104759965638&ac=0&unit=metric&output=json&tzshift=0\"\n",
        "\n",
        "response = urlopen(url)\n",
        "res = json.loads(response.read())\n",
        "res"
      ],
      "metadata": {
        "colab": {
          "base_uri": "https://localhost:8080/"
        },
        "id": "EtWBII7ZbYjU",
        "outputId": "9ed2543f-be4f-4ee5-b2f6-5d66e22c0883"
      },
      "execution_count": 1,
      "outputs": [
        {
          "output_type": "execute_result",
          "data": {
            "text/plain": [
              "{'product': 'astro',\n",
              " 'init': '2023020100',\n",
              " 'dataseries': [{'timepoint': 3,\n",
              "   'cloudcover': 8,\n",
              "   'seeing': 6,\n",
              "   'transparency': 2,\n",
              "   'lifted_index': 10,\n",
              "   'rh2m': 3,\n",
              "   'wind10m': {'direction': 'NE', 'speed': 2},\n",
              "   'temp2m': 28,\n",
              "   'prec_type': 'none'},\n",
              "  {'timepoint': 6,\n",
              "   'cloudcover': 7,\n",
              "   'seeing': 6,\n",
              "   'transparency': 2,\n",
              "   'lifted_index': 10,\n",
              "   'rh2m': 3,\n",
              "   'wind10m': {'direction': 'N', 'speed': 1},\n",
              "   'temp2m': 33,\n",
              "   'prec_type': 'none'},\n",
              "  {'timepoint': 9,\n",
              "   'cloudcover': 6,\n",
              "   'seeing': 6,\n",
              "   'transparency': 2,\n",
              "   'lifted_index': 6,\n",
              "   'rh2m': 4,\n",
              "   'wind10m': {'direction': 'SE', 'speed': 2},\n",
              "   'temp2m': 33,\n",
              "   'prec_type': 'none'},\n",
              "  {'timepoint': 12,\n",
              "   'cloudcover': 7,\n",
              "   'seeing': 8,\n",
              "   'transparency': 2,\n",
              "   'lifted_index': 6,\n",
              "   'rh2m': 6,\n",
              "   'wind10m': {'direction': 'S', 'speed': 2},\n",
              "   'temp2m': 30,\n",
              "   'prec_type': 'none'},\n",
              "  {'timepoint': 15,\n",
              "   'cloudcover': 7,\n",
              "   'seeing': 8,\n",
              "   'transparency': 3,\n",
              "   'lifted_index': 2,\n",
              "   'rh2m': 9,\n",
              "   'wind10m': {'direction': 'S', 'speed': 2},\n",
              "   'temp2m': 28,\n",
              "   'prec_type': 'none'},\n",
              "  {'timepoint': 18,\n",
              "   'cloudcover': 5,\n",
              "   'seeing': 8,\n",
              "   'transparency': 3,\n",
              "   'lifted_index': 2,\n",
              "   'rh2m': 10,\n",
              "   'wind10m': {'direction': 'SW', 'speed': 2},\n",
              "   'temp2m': 25,\n",
              "   'prec_type': 'none'},\n",
              "  {'timepoint': 21,\n",
              "   'cloudcover': 7,\n",
              "   'seeing': 8,\n",
              "   'transparency': 3,\n",
              "   'lifted_index': 2,\n",
              "   'rh2m': 10,\n",
              "   'wind10m': {'direction': 'SW', 'speed': 2},\n",
              "   'temp2m': 25,\n",
              "   'prec_type': 'none'},\n",
              "  {'timepoint': 24,\n",
              "   'cloudcover': 7,\n",
              "   'seeing': 8,\n",
              "   'transparency': 4,\n",
              "   'lifted_index': -1,\n",
              "   'rh2m': 10,\n",
              "   'wind10m': {'direction': 'S', 'speed': 2},\n",
              "   'temp2m': 24,\n",
              "   'prec_type': 'none'},\n",
              "  {'timepoint': 27,\n",
              "   'cloudcover': 9,\n",
              "   'seeing': 6,\n",
              "   'transparency': 3,\n",
              "   'lifted_index': 2,\n",
              "   'rh2m': 7,\n",
              "   'wind10m': {'direction': 'S', 'speed': 2},\n",
              "   'temp2m': 30,\n",
              "   'prec_type': 'none'},\n",
              "  {'timepoint': 30,\n",
              "   'cloudcover': 9,\n",
              "   'seeing': 6,\n",
              "   'transparency': 3,\n",
              "   'lifted_index': 2,\n",
              "   'rh2m': 7,\n",
              "   'wind10m': {'direction': 'SE', 'speed': 2},\n",
              "   'temp2m': 35,\n",
              "   'prec_type': 'none'},\n",
              "  {'timepoint': 33,\n",
              "   'cloudcover': 2,\n",
              "   'seeing': 7,\n",
              "   'transparency': 2,\n",
              "   'lifted_index': 2,\n",
              "   'rh2m': 6,\n",
              "   'wind10m': {'direction': 'SE', 'speed': 2},\n",
              "   'temp2m': 35,\n",
              "   'prec_type': 'none'},\n",
              "  {'timepoint': 36,\n",
              "   'cloudcover': 4,\n",
              "   'seeing': 8,\n",
              "   'transparency': 3,\n",
              "   'lifted_index': -1,\n",
              "   'rh2m': 9,\n",
              "   'wind10m': {'direction': 'S', 'speed': 3},\n",
              "   'temp2m': 31,\n",
              "   'prec_type': 'none'},\n",
              "  {'timepoint': 39,\n",
              "   'cloudcover': 9,\n",
              "   'seeing': 7,\n",
              "   'transparency': 4,\n",
              "   'lifted_index': -4,\n",
              "   'rh2m': 11,\n",
              "   'wind10m': {'direction': 'S', 'speed': 3},\n",
              "   'temp2m': 29,\n",
              "   'prec_type': 'none'},\n",
              "  {'timepoint': 42,\n",
              "   'cloudcover': 9,\n",
              "   'seeing': 7,\n",
              "   'transparency': 4,\n",
              "   'lifted_index': -4,\n",
              "   'rh2m': 12,\n",
              "   'wind10m': {'direction': 'S', 'speed': 3},\n",
              "   'temp2m': 28,\n",
              "   'prec_type': 'none'},\n",
              "  {'timepoint': 45,\n",
              "   'cloudcover': 9,\n",
              "   'seeing': 7,\n",
              "   'transparency': 5,\n",
              "   'lifted_index': -4,\n",
              "   'rh2m': 12,\n",
              "   'wind10m': {'direction': 'S', 'speed': 2},\n",
              "   'temp2m': 27,\n",
              "   'prec_type': 'none'},\n",
              "  {'timepoint': 48,\n",
              "   'cloudcover': 9,\n",
              "   'seeing': 7,\n",
              "   'transparency': 5,\n",
              "   'lifted_index': -4,\n",
              "   'rh2m': 12,\n",
              "   'wind10m': {'direction': 'S', 'speed': 2},\n",
              "   'temp2m': 26,\n",
              "   'prec_type': 'none'},\n",
              "  {'timepoint': 51,\n",
              "   'cloudcover': 6,\n",
              "   'seeing': 6,\n",
              "   'transparency': 4,\n",
              "   'lifted_index': -1,\n",
              "   'rh2m': 9,\n",
              "   'wind10m': {'direction': 'SE', 'speed': 3},\n",
              "   'temp2m': 31,\n",
              "   'prec_type': 'rain'},\n",
              "  {'timepoint': 54,\n",
              "   'cloudcover': 4,\n",
              "   'seeing': 6,\n",
              "   'transparency': 4,\n",
              "   'lifted_index': -1,\n",
              "   'rh2m': 9,\n",
              "   'wind10m': {'direction': 'SE', 'speed': 2},\n",
              "   'temp2m': 34,\n",
              "   'prec_type': 'rain'},\n",
              "  {'timepoint': 57,\n",
              "   'cloudcover': 8,\n",
              "   'seeing': 6,\n",
              "   'transparency': 4,\n",
              "   'lifted_index': -1,\n",
              "   'rh2m': 9,\n",
              "   'wind10m': {'direction': 'SW', 'speed': 2},\n",
              "   'temp2m': 34,\n",
              "   'prec_type': 'none'},\n",
              "  {'timepoint': 60,\n",
              "   'cloudcover': 8,\n",
              "   'seeing': 6,\n",
              "   'transparency': 4,\n",
              "   'lifted_index': -4,\n",
              "   'rh2m': 12,\n",
              "   'wind10m': {'direction': 'S', 'speed': 3},\n",
              "   'temp2m': 30,\n",
              "   'prec_type': 'none'},\n",
              "  {'timepoint': 63,\n",
              "   'cloudcover': 2,\n",
              "   'seeing': 7,\n",
              "   'transparency': 5,\n",
              "   'lifted_index': -4,\n",
              "   'rh2m': 12,\n",
              "   'wind10m': {'direction': 'S', 'speed': 3},\n",
              "   'temp2m': 29,\n",
              "   'prec_type': 'none'},\n",
              "  {'timepoint': 66,\n",
              "   'cloudcover': 5,\n",
              "   'seeing': 7,\n",
              "   'transparency': 5,\n",
              "   'lifted_index': -4,\n",
              "   'rh2m': 12,\n",
              "   'wind10m': {'direction': 'S', 'speed': 3},\n",
              "   'temp2m': 28,\n",
              "   'prec_type': 'rain'},\n",
              "  {'timepoint': 69,\n",
              "   'cloudcover': 9,\n",
              "   'seeing': 8,\n",
              "   'transparency': 4,\n",
              "   'lifted_index': -4,\n",
              "   'rh2m': 12,\n",
              "   'wind10m': {'direction': 'S', 'speed': 2},\n",
              "   'temp2m': 28,\n",
              "   'prec_type': 'rain'},\n",
              "  {'timepoint': 72,\n",
              "   'cloudcover': 8,\n",
              "   'seeing': 8,\n",
              "   'transparency': 4,\n",
              "   'lifted_index': -4,\n",
              "   'rh2m': 12,\n",
              "   'wind10m': {'direction': 'SW', 'speed': 2},\n",
              "   'temp2m': 26,\n",
              "   'prec_type': 'rain'}]}"
            ]
          },
          "metadata": {},
          "execution_count": 1
        }
      ]
    },
    {
      "cell_type": "code",
      "source": [
        "import datetime \n",
        "init_time=datetime.datetime.strptime(res['init'], '%Y%m%d%H')\n",
        "init_time=init_time+datetime.timedelta(hours=7)"
      ],
      "metadata": {
        "id": "5L9wiXt9bbJd"
      },
      "execution_count": 2,
      "outputs": []
    },
    {
      "cell_type": "code",
      "source": [
        "import matplotlib.pyplot as plt\n",
        "\n",
        "dt = [datetime.timedelta(hours=int(i['timepoint']))+init_time for i in res['dataseries']]\n",
        "rh = [e['rh2m'] for e in res['dataseries']]\n",
        "plt.plot(dt,rh,'b')"
      ],
      "metadata": {
        "colab": {
          "base_uri": "https://localhost:8080/",
          "height": 283
        },
        "id": "zW_CzPqLbeeN",
        "outputId": "1e0e8841-fe93-421d-876c-c16ea3b3b2db"
      },
      "execution_count": 3,
      "outputs": [
        {
          "output_type": "execute_result",
          "data": {
            "text/plain": [
              "[<matplotlib.lines.Line2D at 0x7f2884442490>]"
            ]
          },
          "metadata": {},
          "execution_count": 3
        },
        {
          "output_type": "display_data",
          "data": {
            "text/plain": [
              "<Figure size 432x288 with 1 Axes>"
            ],
            "image/png": "[encoded data removed]"
          },
          "metadata": {
            "needs_background": "light"
          }
        }
      ]
    },
    {
      "cell_type": "markdown",
      "source": [
        "Plot the temperature chart one"
      ],
      "metadata": {
        "id": "mbkW1DmLbhHG"
      }
    },
    {
      "cell_type": "code",
      "source": [
        "dt = [datetime.timedelta(hours=int(i['timepoint']))+init_time for i in res['dataseries']]\n",
        "tem = [e['temp2m'] for e in res['dataseries']]\n",
        "plt.plot(dt,tem,'b')"
      ],
      "metadata": {
        "colab": {
          "base_uri": "https://localhost:8080/",
          "height": 283
        },
        "id": "gSLSkAtFbgfd",
        "outputId": "a077156d-874d-46f0-968e-d5aaeed504a0"
      },
      "execution_count": 4,
      "outputs": [
        {
          "output_type": "execute_result",
          "data": {
            "text/plain": [
              "[<matplotlib.lines.Line2D at 0x7f28843cecd0>]"
            ]
          },
          "metadata": {},
          "execution_count": 4
        },
        {
          "output_type": "display_data",
          "data": {
            "text/plain": [
              "<Figure size 432x288 with 1 Axes>"
            ],
            "image/png": "[encoded data removed]"
          },
          "metadata": {
            "needs_background": "light"
          }
        }
      ]
    }
  ]
}