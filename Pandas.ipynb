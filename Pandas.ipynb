{
  "nbformat": 4,
  "nbformat_minor": 0,
  "metadata": {
    "colab": {
      "provenance": [],
      "authorship_tag": "ABX9TyPZ9TmLO2H9QhgEh9Ya7xyj",
      "include_colab_link": true
    },
    "kernelspec": {
      "name": "python3",
      "display_name": "Python 3"
    },
    "language_info": {
      "name": "python"
    }
  },
  "cells": [
    {
      "cell_type": "markdown",
      "metadata": {
        "id": "view-in-github",
        "colab_type": "text"
      },
      "source": [
        "<a href=\"https://colab.research.google.com/github/pkaewmanee/Python/blob/main/Pandas.ipynb\" target=\"_parent\"><img src=\"https://colab.research.google.com/assets/colab-badge.svg\" alt=\"Open In Colab\"/></a>"
      ]
    },
    {
      "cell_type": "markdown",
      "source": [
        "# Pandas"
      ],
      "metadata": {
        "id": "89eECv51053N"
      }
    },
    {
      "cell_type": "markdown",
      "source": [
        "## Create a Histogram for four attributes of Iris"
      ],
      "metadata": {
        "id": "TR-lbu1U0-2p"
      }
    },
    {
      "cell_type": "code",
      "execution_count": 1,
      "metadata": {
        "colab": {
          "base_uri": "https://localhost:8080/"
        },
        "id": "3jELoFPE03T4",
        "outputId": "3d24531e-81e4-40e8-de52-c9affe15cb48"
      },
      "outputs": [
        {
          "output_type": "stream",
          "name": "stdout",
          "text": [
            "--2023-02-01 07:15:59--  https://archive.ics.uci.edu/ml/machine-learning-databases/iris/iris.data\n",
            "Resolving archive.ics.uci.edu (archive.ics.uci.edu)... 128.195.10.252\n",
            "Connecting to archive.ics.uci.edu (archive.ics.uci.edu)|128.195.10.252|:443... connected.\n",
            "HTTP request sent, awaiting response... 200 OK\n",
            "Length: 4551 (4.4K) [application/x-httpd-php]\n",
            "Saving to: ‘iris.data’\n",
            "\n",
            "iris.data           100%[===================>]   4.44K  --.-KB/s    in 0s      \n",
            "\n",
            "2023-02-01 07:16:00 (94.5 MB/s) - ‘iris.data’ saved [4551/4551]\n",
            "\n"
          ]
        }
      ],
      "source": [
        "! wget https://archive.ics.uci.edu/ml/machine-learning-databases/iris/iris.data"
      ]
    },
    {
      "cell_type": "code",
      "source": [
        "import pandas as pd\n",
        "\n",
        "df=pd.read_csv('iris.data')\n",
        "df.columns=['sepal length', 'sepal width', 'petal length', 'petal width', 'class']\n",
        "df['sepal length'].hist(alpha=0.4)\n",
        "df['sepal width'].hist(alpha=0.4)\n",
        "df['petal length'].hist(alpha=0.4)\n",
        "df['petal width'].hist(alpha=0.4)"
      ],
      "metadata": {
        "colab": {
          "base_uri": "https://localhost:8080/",
          "height": 283
        },
        "id": "AYgMFVrH1NRs",
        "outputId": "766f9912-5b15-4a63-df73-dc89830a6149"
      },
      "execution_count": 3,
      "outputs": [
        {
          "output_type": "execute_result",
          "data": {
            "text/plain": [
              "<matplotlib.axes._subplots.AxesSubplot at 0x7fbd0f71b520>"
            ]
          },
          "metadata": {},
          "execution_count": 3
        },
        {
          "output_type": "display_data",
          "data": {
            "text/plain": [
              "<Figure size 432x288 with 1 Axes>"
            ],
            "image/png": "[encoded data removed]"
          },
          "metadata": {
            "needs_background": "light"
          }
        }
      ]
    },
    {
      "cell_type": "markdown",
      "source": [
        "## Use Series to create Histogram from score.csv file"
      ],
      "metadata": {
        "id": "ftsrt5Us158Q"
      }
    },
    {
      "cell_type": "code",
      "source": [
        "! gdown https://drive.google.com/uc?id=1wpYx8rvGohvy_TLEfYgaKRYpyy2Z1ZST"
      ],
      "metadata": {
        "colab": {
          "base_uri": "https://localhost:8080/"
        },
        "id": "xsd3OU5T2NqC",
        "outputId": "5335b6ed-91cf-4208-e5c7-cff8d23ef600"
      },
      "execution_count": 4,
      "outputs": [
        {
          "output_type": "stream",
          "name": "stdout",
          "text": [
            "Downloading...\n",
            "From: https://drive.google.com/uc?id=1wpYx8rvGohvy_TLEfYgaKRYpyy2Z1ZST\n",
            "To: /content/score.csv\n",
            "\r  0% 0.00/22.4k [00:00<?, ?B/s]\r100% 22.4k/22.4k [00:00<00:00, 29.9MB/s]\n"
          ]
        }
      ]
    },
    {
      "cell_type": "code",
      "source": [
        "scores=pd.read_csv('score.csv')\n",
        "questions = ['Q1', 'Q2', 'Q3', 'Q4', 'Q5']\n",
        "scores['total']= sum([pd.to_numeric(scores[a]) for a in questions])\n",
        "\n",
        "scores['total'].hist()"
      ],
      "metadata": {
        "colab": {
          "base_uri": "https://localhost:8080/",
          "height": 283
        },
        "id": "6mlikD-82Te5",
        "outputId": "62c43922-4fa0-45f0-c8c7-13f10861f391"
      },
      "execution_count": 5,
      "outputs": [
        {
          "output_type": "execute_result",
          "data": {
            "text/plain": [
              "<matplotlib.axes._subplots.AxesSubplot at 0x7fbd0f23bd90>"
            ]
          },
          "metadata": {},
          "execution_count": 5
        },
        {
          "output_type": "display_data",
          "data": {
            "text/plain": [
              "<Figure size 432x288 with 1 Axes>"
            ],
            "image/png": "[encoded data removed]"
          },
          "metadata": {
            "needs_background": "light"
          }
        }
      ]
    }
  ]
}