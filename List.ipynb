{
  "nbformat": 4,
  "nbformat_minor": 0,
  "metadata": {
    "colab": {
      "provenance": [],
      "authorship_tag": "ABX9TyMKFY+RIi23NfYKrKpTGc0r",
      "include_colab_link": true
    },
    "kernelspec": {
      "name": "python3",
      "display_name": "Python 3"
    },
    "language_info": {
      "name": "python"
    }
  },
  "cells": [
    {
      "cell_type": "markdown",
      "metadata": {
        "id": "view-in-github",
        "colab_type": "text"
      },
      "source": [
        "<a href=\"https://colab.research.google.com/github/pkaewmanee/Python/blob/main/List.ipynb\" target=\"_parent\"><img src=\"https://colab.research.google.com/assets/colab-badge.svg\" alt=\"Open In Colab\"/></a>"
      ]
    },
    {
      "cell_type": "markdown",
      "source": [
        "#List"
      ],
      "metadata": {
        "id": "MCrn5BTDWCZE"
      }
    },
    {
      "cell_type": "markdown",
      "source": [
        "Basic List Making"
      ],
      "metadata": {
        "id": "syytA7UIWMbt"
      }
    },
    {
      "cell_type": "code",
      "execution_count": 1,
      "metadata": {
        "colab": {
          "base_uri": "https://localhost:8080/"
        },
        "id": "3RUS1K8tV4ca",
        "outputId": "40de06d4-da8e-4791-b26f-349b239fb09f"
      },
      "outputs": [
        {
          "output_type": "stream",
          "name": "stdout",
          "text": [
            "0: 5\n",
            "1: 6\n",
            "2: 7\n",
            "3: 2\n",
            "4: 4\n",
            "5: 6\n",
            "6: 5\n",
            "7: 2\n",
            "8: 4\n",
            "9: 6\n",
            "10: 3\n"
          ]
        }
      ],
      "source": [
        "import random \n",
        "\n",
        "n=50\n",
        "data=[random.randint(0,10) for i in range(n)]\n",
        "\n",
        "# Write your code here\n",
        "for j in range(11):\n",
        "  a=0\n",
        "  for k in data:\n",
        "    if k == j:\n",
        "      a+=1\n",
        "  print(str(j)+\": \"+str(a))"
      ]
    },
    {
      "cell_type": "markdown",
      "source": [
        "Using List to Count Randomly generated number"
      ],
      "metadata": {
        "id": "4Y9bxVTbaO78"
      }
    },
    {
      "cell_type": "code",
      "source": [
        "import random \n",
        "\n",
        "n=500\n",
        "data=[random.randint(0,100) for i in range(n)]\n",
        "\n",
        "# Write your code here\n",
        "data_dict={}\n",
        "for i in range(0,101):\n",
        "  count=0\n",
        "  for k in data:\n",
        "    if i==k:\n",
        "      count+=1\n",
        "  data_dict[i] = count\n",
        "print(data_dict)"
      ],
      "metadata": {
        "colab": {
          "base_uri": "https://localhost:8080/"
        },
        "id": "zMuegkZ_aSfa",
        "outputId": "00e2c434-f915-4e7e-90c4-c54d0b6f831b"
      },
      "execution_count": 2,
      "outputs": [
        {
          "output_type": "stream",
          "name": "stdout",
          "text": [
            "{0: 1, 1: 5, 2: 4, 3: 5, 4: 5, 5: 5, 6: 6, 7: 6, 8: 5, 9: 4, 10: 7, 11: 2, 12: 4, 13: 7, 14: 5, 15: 3, 16: 4, 17: 2, 18: 8, 19: 12, 20: 6, 21: 4, 22: 2, 23: 6, 24: 2, 25: 7, 26: 3, 27: 3, 28: 4, 29: 3, 30: 5, 31: 7, 32: 6, 33: 3, 34: 5, 35: 3, 36: 9, 37: 5, 38: 5, 39: 8, 40: 4, 41: 5, 42: 6, 43: 7, 44: 3, 45: 4, 46: 3, 47: 3, 48: 6, 49: 5, 50: 9, 51: 5, 52: 6, 53: 7, 54: 7, 55: 4, 56: 4, 57: 6, 58: 4, 59: 4, 60: 2, 61: 5, 62: 8, 63: 10, 64: 6, 65: 2, 66: 1, 67: 2, 68: 7, 69: 8, 70: 9, 71: 8, 72: 7, 73: 3, 74: 5, 75: 7, 76: 2, 77: 4, 78: 5, 79: 4, 80: 5, 81: 2, 82: 6, 83: 7, 84: 2, 85: 5, 86: 7, 87: 7, 88: 2, 89: 4, 90: 1, 91: 5, 92: 6, 93: 3, 94: 9, 95: 5, 96: 5, 97: 6, 98: 3, 99: 5, 100: 2}\n"
          ]
        }
      ]
    },
    {
      "cell_type": "markdown",
      "source": [
        "# Using list to create chart of Iris"
      ],
      "metadata": {
        "id": "M_1yG2hhaXNi"
      }
    },
    {
      "cell_type": "code",
      "source": [
        "! wget https://archive.ics.uci.edu/ml/machine-learning-databases/iris/iris.data"
      ],
      "metadata": {
        "colab": {
          "base_uri": "https://localhost:8080/"
        },
        "id": "kCeIg6JIacOd",
        "outputId": "df7767a8-4be7-4d6e-a7e1-04b4b8e62bf6"
      },
      "execution_count": 3,
      "outputs": [
        {
          "output_type": "stream",
          "name": "stdout",
          "text": [
            "--2023-02-01 07:10:41--  https://archive.ics.uci.edu/ml/machine-learning-databases/iris/iris.data\n",
            "Resolving archive.ics.uci.edu (archive.ics.uci.edu)... 128.195.10.252\n",
            "Connecting to archive.ics.uci.edu (archive.ics.uci.edu)|128.195.10.252|:443... connected.\n",
            "HTTP request sent, awaiting response... 200 OK\n",
            "Length: 4551 (4.4K) [application/x-httpd-php]\n",
            "Saving to: ‘iris.data’\n",
            "\n",
            "iris.data           100%[===================>]   4.44K  --.-KB/s    in 0s      \n",
            "\n",
            "2023-02-01 07:10:41 (91.6 MB/s) - ‘iris.data’ saved [4551/4551]\n",
            "\n"
          ]
        }
      ]
    },
    {
      "cell_type": "markdown",
      "source": [
        "Get the Data"
      ],
      "metadata": {
        "id": "9SMEUGfuaizv"
      }
    },
    {
      "cell_type": "code",
      "source": [
        "def get_data():\n",
        "  file=open('iris.data')\n",
        "  lines=file.readlines()\n",
        "  file.close()\n",
        "\n",
        "  return [tuple([float(token) for token in line.split(',')[:-1]]+[line.strip().split(',')[-1]]) for line in lines if len(line.strip()) > 0]\n",
        "\n",
        "data=get_data()\n",
        "print(data)"
      ],
      "metadata": {
        "colab": {
          "base_uri": "https://localhost:8080/"
        },
        "id": "60PcW0_faenY",
        "outputId": "35ddcd5f-c64e-429e-be23-749ab9151512"
      },
      "execution_count": 4,
      "outputs": [
        {
          "output_type": "stream",
          "name": "stdout",
          "text": [
            "[(5.1, 3.5, 1.4, 0.2, 'Iris-setosa'), (4.9, 3.0, 1.4, 0.2, 'Iris-setosa'), (4.7, 3.2, 1.3, 0.2, 'Iris-setosa'), (4.6, 3.1, 1.5, 0.2, 'Iris-setosa'), (5.0, 3.6, 1.4, 0.2, 'Iris-setosa'), (5.4, 3.9, 1.7, 0.4, 'Iris-setosa'), (4.6, 3.4, 1.4, 0.3, 'Iris-setosa'), (5.0, 3.4, 1.5, 0.2, 'Iris-setosa'), (4.4, 2.9, 1.4, 0.2, 'Iris-setosa'), (4.9, 3.1, 1.5, 0.1, 'Iris-setosa'), (5.4, 3.7, 1.5, 0.2, 'Iris-setosa'), (4.8, 3.4, 1.6, 0.2, 'Iris-setosa'), (4.8, 3.0, 1.4, 0.1, 'Iris-setosa'), (4.3, 3.0, 1.1, 0.1, 'Iris-setosa'), (5.8, 4.0, 1.2, 0.2, 'Iris-setosa'), (5.7, 4.4, 1.5, 0.4, 'Iris-setosa'), (5.4, 3.9, 1.3, 0.4, 'Iris-setosa'), (5.1, 3.5, 1.4, 0.3, 'Iris-setosa'), (5.7, 3.8, 1.7, 0.3, 'Iris-setosa'), (5.1, 3.8, 1.5, 0.3, 'Iris-setosa'), (5.4, 3.4, 1.7, 0.2, 'Iris-setosa'), (5.1, 3.7, 1.5, 0.4, 'Iris-setosa'), (4.6, 3.6, 1.0, 0.2, 'Iris-setosa'), (5.1, 3.3, 1.7, 0.5, 'Iris-setosa'), (4.8, 3.4, 1.9, 0.2, 'Iris-setosa'), (5.0, 3.0, 1.6, 0.2, 'Iris-setosa'), (5.0, 3.4, 1.6, 0.4, 'Iris-setosa'), (5.2, 3.5, 1.5, 0.2, 'Iris-setosa'), (5.2, 3.4, 1.4, 0.2, 'Iris-setosa'), (4.7, 3.2, 1.6, 0.2, 'Iris-setosa'), (4.8, 3.1, 1.6, 0.2, 'Iris-setosa'), (5.4, 3.4, 1.5, 0.4, 'Iris-setosa'), (5.2, 4.1, 1.5, 0.1, 'Iris-setosa'), (5.5, 4.2, 1.4, 0.2, 'Iris-setosa'), (4.9, 3.1, 1.5, 0.1, 'Iris-setosa'), (5.0, 3.2, 1.2, 0.2, 'Iris-setosa'), (5.5, 3.5, 1.3, 0.2, 'Iris-setosa'), (4.9, 3.1, 1.5, 0.1, 'Iris-setosa'), (4.4, 3.0, 1.3, 0.2, 'Iris-setosa'), (5.1, 3.4, 1.5, 0.2, 'Iris-setosa'), (5.0, 3.5, 1.3, 0.3, 'Iris-setosa'), (4.5, 2.3, 1.3, 0.3, 'Iris-setosa'), (4.4, 3.2, 1.3, 0.2, 'Iris-setosa'), (5.0, 3.5, 1.6, 0.6, 'Iris-setosa'), (5.1, 3.8, 1.9, 0.4, 'Iris-setosa'), (4.8, 3.0, 1.4, 0.3, 'Iris-setosa'), (5.1, 3.8, 1.6, 0.2, 'Iris-setosa'), (4.6, 3.2, 1.4, 0.2, 'Iris-setosa'), (5.3, 3.7, 1.5, 0.2, 'Iris-setosa'), (5.0, 3.3, 1.4, 0.2, 'Iris-setosa'), (7.0, 3.2, 4.7, 1.4, 'Iris-versicolor'), (6.4, 3.2, 4.5, 1.5, 'Iris-versicolor'), (6.9, 3.1, 4.9, 1.5, 'Iris-versicolor'), (5.5, 2.3, 4.0, 1.3, 'Iris-versicolor'), (6.5, 2.8, 4.6, 1.5, 'Iris-versicolor'), (5.7, 2.8, 4.5, 1.3, 'Iris-versicolor'), (6.3, 3.3, 4.7, 1.6, 'Iris-versicolor'), (4.9, 2.4, 3.3, 1.0, 'Iris-versicolor'), (6.6, 2.9, 4.6, 1.3, 'Iris-versicolor'), (5.2, 2.7, 3.9, 1.4, 'Iris-versicolor'), (5.0, 2.0, 3.5, 1.0, 'Iris-versicolor'), (5.9, 3.0, 4.2, 1.5, 'Iris-versicolor'), (6.0, 2.2, 4.0, 1.0, 'Iris-versicolor'), (6.1, 2.9, 4.7, 1.4, 'Iris-versicolor'), (5.6, 2.9, 3.6, 1.3, 'Iris-versicolor'), (6.7, 3.1, 4.4, 1.4, 'Iris-versicolor'), (5.6, 3.0, 4.5, 1.5, 'Iris-versicolor'), (5.8, 2.7, 4.1, 1.0, 'Iris-versicolor'), (6.2, 2.2, 4.5, 1.5, 'Iris-versicolor'), (5.6, 2.5, 3.9, 1.1, 'Iris-versicolor'), (5.9, 3.2, 4.8, 1.8, 'Iris-versicolor'), (6.1, 2.8, 4.0, 1.3, 'Iris-versicolor'), (6.3, 2.5, 4.9, 1.5, 'Iris-versicolor'), (6.1, 2.8, 4.7, 1.2, 'Iris-versicolor'), (6.4, 2.9, 4.3, 1.3, 'Iris-versicolor'), (6.6, 3.0, 4.4, 1.4, 'Iris-versicolor'), (6.8, 2.8, 4.8, 1.4, 'Iris-versicolor'), (6.7, 3.0, 5.0, 1.7, 'Iris-versicolor'), (6.0, 2.9, 4.5, 1.5, 'Iris-versicolor'), (5.7, 2.6, 3.5, 1.0, 'Iris-versicolor'), (5.5, 2.4, 3.8, 1.1, 'Iris-versicolor'), (5.5, 2.4, 3.7, 1.0, 'Iris-versicolor'), (5.8, 2.7, 3.9, 1.2, 'Iris-versicolor'), (6.0, 2.7, 5.1, 1.6, 'Iris-versicolor'), (5.4, 3.0, 4.5, 1.5, 'Iris-versicolor'), (6.0, 3.4, 4.5, 1.6, 'Iris-versicolor'), (6.7, 3.1, 4.7, 1.5, 'Iris-versicolor'), (6.3, 2.3, 4.4, 1.3, 'Iris-versicolor'), (5.6, 3.0, 4.1, 1.3, 'Iris-versicolor'), (5.5, 2.5, 4.0, 1.3, 'Iris-versicolor'), (5.5, 2.6, 4.4, 1.2, 'Iris-versicolor'), (6.1, 3.0, 4.6, 1.4, 'Iris-versicolor'), (5.8, 2.6, 4.0, 1.2, 'Iris-versicolor'), (5.0, 2.3, 3.3, 1.0, 'Iris-versicolor'), (5.6, 2.7, 4.2, 1.3, 'Iris-versicolor'), (5.7, 3.0, 4.2, 1.2, 'Iris-versicolor'), (5.7, 2.9, 4.2, 1.3, 'Iris-versicolor'), (6.2, 2.9, 4.3, 1.3, 'Iris-versicolor'), (5.1, 2.5, 3.0, 1.1, 'Iris-versicolor'), (5.7, 2.8, 4.1, 1.3, 'Iris-versicolor'), (6.3, 3.3, 6.0, 2.5, 'Iris-virginica'), (5.8, 2.7, 5.1, 1.9, 'Iris-virginica'), (7.1, 3.0, 5.9, 2.1, 'Iris-virginica'), (6.3, 2.9, 5.6, 1.8, 'Iris-virginica'), (6.5, 3.0, 5.8, 2.2, 'Iris-virginica'), (7.6, 3.0, 6.6, 2.1, 'Iris-virginica'), (4.9, 2.5, 4.5, 1.7, 'Iris-virginica'), (7.3, 2.9, 6.3, 1.8, 'Iris-virginica'), (6.7, 2.5, 5.8, 1.8, 'Iris-virginica'), (7.2, 3.6, 6.1, 2.5, 'Iris-virginica'), (6.5, 3.2, 5.1, 2.0, 'Iris-virginica'), (6.4, 2.7, 5.3, 1.9, 'Iris-virginica'), (6.8, 3.0, 5.5, 2.1, 'Iris-virginica'), (5.7, 2.5, 5.0, 2.0, 'Iris-virginica'), (5.8, 2.8, 5.1, 2.4, 'Iris-virginica'), (6.4, 3.2, 5.3, 2.3, 'Iris-virginica'), (6.5, 3.0, 5.5, 1.8, 'Iris-virginica'), (7.7, 3.8, 6.7, 2.2, 'Iris-virginica'), (7.7, 2.6, 6.9, 2.3, 'Iris-virginica'), (6.0, 2.2, 5.0, 1.5, 'Iris-virginica'), (6.9, 3.2, 5.7, 2.3, 'Iris-virginica'), (5.6, 2.8, 4.9, 2.0, 'Iris-virginica'), (7.7, 2.8, 6.7, 2.0, 'Iris-virginica'), (6.3, 2.7, 4.9, 1.8, 'Iris-virginica'), (6.7, 3.3, 5.7, 2.1, 'Iris-virginica'), (7.2, 3.2, 6.0, 1.8, 'Iris-virginica'), (6.2, 2.8, 4.8, 1.8, 'Iris-virginica'), (6.1, 3.0, 4.9, 1.8, 'Iris-virginica'), (6.4, 2.8, 5.6, 2.1, 'Iris-virginica'), (7.2, 3.0, 5.8, 1.6, 'Iris-virginica'), (7.4, 2.8, 6.1, 1.9, 'Iris-virginica'), (7.9, 3.8, 6.4, 2.0, 'Iris-virginica'), (6.4, 2.8, 5.6, 2.2, 'Iris-virginica'), (6.3, 2.8, 5.1, 1.5, 'Iris-virginica'), (6.1, 2.6, 5.6, 1.4, 'Iris-virginica'), (7.7, 3.0, 6.1, 2.3, 'Iris-virginica'), (6.3, 3.4, 5.6, 2.4, 'Iris-virginica'), (6.4, 3.1, 5.5, 1.8, 'Iris-virginica'), (6.0, 3.0, 4.8, 1.8, 'Iris-virginica'), (6.9, 3.1, 5.4, 2.1, 'Iris-virginica'), (6.7, 3.1, 5.6, 2.4, 'Iris-virginica'), (6.9, 3.1, 5.1, 2.3, 'Iris-virginica'), (5.8, 2.7, 5.1, 1.9, 'Iris-virginica'), (6.8, 3.2, 5.9, 2.3, 'Iris-virginica'), (6.7, 3.3, 5.7, 2.5, 'Iris-virginica'), (6.7, 3.0, 5.2, 2.3, 'Iris-virginica'), (6.3, 2.5, 5.0, 1.9, 'Iris-virginica'), (6.5, 3.0, 5.2, 2.0, 'Iris-virginica'), (6.2, 3.4, 5.4, 2.3, 'Iris-virginica'), (5.9, 3.0, 5.1, 1.8, 'Iris-virginica')]\n"
          ]
        }
      ]
    },
    {
      "cell_type": "markdown",
      "source": [
        "Showing Data"
      ],
      "metadata": {
        "id": "RS68_vBxakaW"
      }
    },
    {
      "cell_type": "code",
      "source": [
        "import matplotlib.pyplot as plt \n",
        "\n",
        "def show_data(a1,a2,data):\n",
        "  cat={'sepal length':0,'sepal width':1,'petal length':2,'petal width':3}\n",
        "  new_a1=int(cat[a1])\n",
        "  new_a2=int(cat[a2])\n",
        "  colors=['r+', 'g+', 'b+']\n",
        "  classes=list(set([e[-1] for e in data]))\n",
        "  for i in range(len(classes)):\n",
        "    x=[d[new_a1] for d in data if d[-1] == str(classes[i])]\n",
        "    y=[d[new_a2] for d in data if d[-1] == str(classes[i])]\n",
        "    plt.plot(x,y,colors[i])\n",
        "data\n",
        "show_data('sepal width','sepal length',data)"
      ],
      "metadata": {
        "colab": {
          "base_uri": "https://localhost:8080/",
          "height": 265
        },
        "id": "cHe7MSnZanpg",
        "outputId": "03f89268-5e8f-4f89-e622-42bed64ad5c4"
      },
      "execution_count": 6,
      "outputs": [
        {
          "output_type": "display_data",
          "data": {
            "text/plain": [
              "<Figure size 432x288 with 1 Axes>"
            ],
            "image/png": "[encoded data removed]"
          },
          "metadata": {
            "needs_background": "light"
          }
        }
      ]
    },
    {
      "cell_type": "markdown",
      "source": [
        "Show petal one"
      ],
      "metadata": {
        "id": "b3dfEwAbauJn"
      }
    },
    {
      "cell_type": "code",
      "source": [
        "show_data('petal length', 'petal width', data)"
      ],
      "metadata": {
        "colab": {
          "base_uri": "https://localhost:8080/",
          "height": 265
        },
        "id": "bOaRkCe_awCc",
        "outputId": "3fcf50c9-3ddc-40e4-a21c-42797857afb2"
      },
      "execution_count": 7,
      "outputs": [
        {
          "output_type": "display_data",
          "data": {
            "text/plain": [
              "<Figure size 432x288 with 1 Axes>"
            ],
            "image/png": "[encoded data removed]"
          },
          "metadata": {
            "needs_background": "light"
          }
        }
      ]
    }
  ]
}